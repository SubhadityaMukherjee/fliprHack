{
 "cells": [
  {
   "cell_type": "markdown",
   "metadata": {
    "toc": true
   },
   "source": [
    "<h1>Table of Contents<span class=\"tocSkip\"></span></h1>\n",
    "<div class=\"toc\"><ul class=\"toc-item\"><li><span><a href=\"#Data\" data-toc-modified-id=\"Data-1\"><span class=\"toc-item-num\">1&nbsp;&nbsp;</span>Data</a></span></li><li><span><a href=\"#Random-Forest\" data-toc-modified-id=\"Random-Forest-2\"><span class=\"toc-item-num\">2&nbsp;&nbsp;</span>Random Forest</a></span></li><li><span><a href=\"#Light\" data-toc-modified-id=\"Light-3\"><span class=\"toc-item-num\">3&nbsp;&nbsp;</span>Light</a></span></li><li><span><a href=\"#fastai\" data-toc-modified-id=\"fastai-4\"><span class=\"toc-item-num\">4&nbsp;&nbsp;</span>fastai</a></span></li><li><span><a href=\"#RNN\" data-toc-modified-id=\"RNN-5\"><span class=\"toc-item-num\">5&nbsp;&nbsp;</span>RNN</a></span></li></ul></div>"
   ]
  },
  {
   "cell_type": "code",
   "execution_count": 1,
   "metadata": {
    "ExecuteTime": {
     "end_time": "2020-03-20T15:23:03.827056Z",
     "start_time": "2020-03-20T15:23:02.893585Z"
    }
   },
   "outputs": [],
   "source": [
    "import seaborn as sns\n",
    "from fastai import *\n",
    "from fastai.tabular import *"
   ]
  },
  {
   "cell_type": "markdown",
   "metadata": {},
   "source": [
    "# Data"
   ]
  },
  {
   "cell_type": "code",
   "execution_count": 2,
   "metadata": {
    "ExecuteTime": {
     "end_time": "2020-03-20T14:35:24.097599Z",
     "start_time": "2020-03-20T14:35:21.623035Z"
    }
   },
   "outputs": [],
   "source": [
    "data_tr = pd.read_excel('data/Train_dataset.xlsx')"
   ]
  },
  {
   "cell_type": "code",
   "execution_count": 2,
   "metadata": {
    "ExecuteTime": {
     "end_time": "2020-03-20T15:23:04.269389Z",
     "start_time": "2020-03-20T15:23:04.262354Z"
    }
   },
   "outputs": [],
   "source": [
    "pd.set_option('display.max_columns',100)\n",
    "pd.set_option('display.max_rows',200)"
   ]
  },
  {
   "cell_type": "code",
   "execution_count": 4,
   "metadata": {
    "ExecuteTime": {
     "end_time": "2020-03-20T14:35:24.128543Z",
     "start_time": "2020-03-20T14:35:24.102564Z"
    }
   },
   "outputs": [
    {
     "data": {
      "text/html": [
       "<div>\n",
       "<style scoped>\n",
       "    .dataframe tbody tr th:only-of-type {\n",
       "        vertical-align: middle;\n",
       "    }\n",
       "\n",
       "    .dataframe tbody tr th {\n",
       "        vertical-align: top;\n",
       "    }\n",
       "\n",
       "    .dataframe thead th {\n",
       "        text-align: right;\n",
       "    }\n",
       "</style>\n",
       "<table border=\"1\" class=\"dataframe\">\n",
       "  <thead>\n",
       "    <tr style=\"text-align: right;\">\n",
       "      <th></th>\n",
       "      <th>people_ID</th>\n",
       "      <th>Region</th>\n",
       "      <th>Gender</th>\n",
       "      <th>Designation</th>\n",
       "      <th>Name</th>\n",
       "      <th>Married</th>\n",
       "      <th>Children</th>\n",
       "      <th>Occupation</th>\n",
       "      <th>Mode_transport</th>\n",
       "      <th>cases/1M</th>\n",
       "      <th>Deaths/1M</th>\n",
       "      <th>comorbidity</th>\n",
       "      <th>Age</th>\n",
       "      <th>Coma score</th>\n",
       "      <th>Pulmonary score</th>\n",
       "      <th>cardiological pressure</th>\n",
       "      <th>Diuresis</th>\n",
       "      <th>Platelets</th>\n",
       "      <th>HBB</th>\n",
       "      <th>d-dimer</th>\n",
       "      <th>Heart rate</th>\n",
       "      <th>HDL cholesterol</th>\n",
       "      <th>Charlson Index</th>\n",
       "      <th>Blood Glucose</th>\n",
       "      <th>Insurance</th>\n",
       "      <th>salary</th>\n",
       "      <th>FT/month</th>\n",
       "      <th>Infect_Prob</th>\n",
       "    </tr>\n",
       "  </thead>\n",
       "  <tbody>\n",
       "    <tr>\n",
       "      <th>0</th>\n",
       "      <td>1</td>\n",
       "      <td>Bhubaneshwar</td>\n",
       "      <td>Female</td>\n",
       "      <td>Mrs</td>\n",
       "      <td>mansi</td>\n",
       "      <td>YES</td>\n",
       "      <td>1.0</td>\n",
       "      <td>Farmer</td>\n",
       "      <td>Public</td>\n",
       "      <td>2</td>\n",
       "      <td>0</td>\n",
       "      <td>Hypertension</td>\n",
       "      <td>68</td>\n",
       "      <td>8</td>\n",
       "      <td>&lt;400</td>\n",
       "      <td>Normal</td>\n",
       "      <td>441.0</td>\n",
       "      <td>154.0</td>\n",
       "      <td>93.0</td>\n",
       "      <td>233.0</td>\n",
       "      <td>82.0</td>\n",
       "      <td>58.0</td>\n",
       "      <td>27</td>\n",
       "      <td>7</td>\n",
       "      <td>3600000.0</td>\n",
       "      <td>1300000</td>\n",
       "      <td>2.0</td>\n",
       "      <td>49.135010</td>\n",
       "    </tr>\n",
       "    <tr>\n",
       "      <th>1</th>\n",
       "      <td>2</td>\n",
       "      <td>Bhubaneshwar</td>\n",
       "      <td>Female</td>\n",
       "      <td>Mrs</td>\n",
       "      <td>riya masi</td>\n",
       "      <td>YES</td>\n",
       "      <td>2.0</td>\n",
       "      <td>Farmer</td>\n",
       "      <td>Walk</td>\n",
       "      <td>2</td>\n",
       "      <td>0</td>\n",
       "      <td>Diabetes</td>\n",
       "      <td>64</td>\n",
       "      <td>15</td>\n",
       "      <td>&lt;100</td>\n",
       "      <td>Stage-02</td>\n",
       "      <td>NaN</td>\n",
       "      <td>121.0</td>\n",
       "      <td>56.0</td>\n",
       "      <td>328.0</td>\n",
       "      <td>89.0</td>\n",
       "      <td>68.0</td>\n",
       "      <td>5</td>\n",
       "      <td>6</td>\n",
       "      <td>1600000.0</td>\n",
       "      <td>400000</td>\n",
       "      <td>1.0</td>\n",
       "      <td>51.147880</td>\n",
       "    </tr>\n",
       "    <tr>\n",
       "      <th>2</th>\n",
       "      <td>3</td>\n",
       "      <td>Bhubaneshwar</td>\n",
       "      <td>Female</td>\n",
       "      <td>Mrs</td>\n",
       "      <td>sunita</td>\n",
       "      <td>NO</td>\n",
       "      <td>1.0</td>\n",
       "      <td>Cleaner</td>\n",
       "      <td>Public</td>\n",
       "      <td>2</td>\n",
       "      <td>0</td>\n",
       "      <td>None</td>\n",
       "      <td>19</td>\n",
       "      <td>13</td>\n",
       "      <td>&lt;300</td>\n",
       "      <td>Elevated</td>\n",
       "      <td>416.0</td>\n",
       "      <td>124.0</td>\n",
       "      <td>137.0</td>\n",
       "      <td>213.0</td>\n",
       "      <td>77.0</td>\n",
       "      <td>43.0</td>\n",
       "      <td>40</td>\n",
       "      <td>6</td>\n",
       "      <td>3400000.0</td>\n",
       "      <td>900000</td>\n",
       "      <td>1.0</td>\n",
       "      <td>73.224000</td>\n",
       "    </tr>\n",
       "    <tr>\n",
       "      <th>3</th>\n",
       "      <td>4</td>\n",
       "      <td>Bhubaneshwar</td>\n",
       "      <td>Female</td>\n",
       "      <td>Mrs</td>\n",
       "      <td>anjali @ babli</td>\n",
       "      <td>YES</td>\n",
       "      <td>1.0</td>\n",
       "      <td>Driver</td>\n",
       "      <td>Car</td>\n",
       "      <td>2</td>\n",
       "      <td>0</td>\n",
       "      <td>Coronary Heart Disease</td>\n",
       "      <td>33</td>\n",
       "      <td>9</td>\n",
       "      <td>&lt;200</td>\n",
       "      <td>Stage-01</td>\n",
       "      <td>410.0</td>\n",
       "      <td>98.0</td>\n",
       "      <td>167.0</td>\n",
       "      <td>275.0</td>\n",
       "      <td>64.0</td>\n",
       "      <td>60.0</td>\n",
       "      <td>27</td>\n",
       "      <td>7</td>\n",
       "      <td>700000.0</td>\n",
       "      <td>2300000</td>\n",
       "      <td>1.0</td>\n",
       "      <td>48.779225</td>\n",
       "    </tr>\n",
       "    <tr>\n",
       "      <th>4</th>\n",
       "      <td>5</td>\n",
       "      <td>Bhubaneshwar</td>\n",
       "      <td>Female</td>\n",
       "      <td>Mrs</td>\n",
       "      <td>champa karketta</td>\n",
       "      <td>NO</td>\n",
       "      <td>2.0</td>\n",
       "      <td>Manufacturing</td>\n",
       "      <td>Car</td>\n",
       "      <td>2</td>\n",
       "      <td>0</td>\n",
       "      <td>Diabetes</td>\n",
       "      <td>23</td>\n",
       "      <td>7</td>\n",
       "      <td>&lt;400</td>\n",
       "      <td>Normal</td>\n",
       "      <td>390.0</td>\n",
       "      <td>21.0</td>\n",
       "      <td>153.0</td>\n",
       "      <td>331.0</td>\n",
       "      <td>71.0</td>\n",
       "      <td>64.0</td>\n",
       "      <td>32</td>\n",
       "      <td>7</td>\n",
       "      <td>3200000.0</td>\n",
       "      <td>1100000</td>\n",
       "      <td>1.0</td>\n",
       "      <td>87.868800</td>\n",
       "    </tr>\n",
       "  </tbody>\n",
       "</table>\n",
       "</div>"
      ],
      "text/plain": [
       "   people_ID        Region  Gender Designation             Name Married  \\\n",
       "0          1  Bhubaneshwar  Female         Mrs            mansi     YES   \n",
       "1          2  Bhubaneshwar  Female         Mrs        riya masi     YES   \n",
       "2          3  Bhubaneshwar  Female         Mrs           sunita      NO   \n",
       "3          4  Bhubaneshwar  Female         Mrs   anjali @ babli     YES   \n",
       "4          5  Bhubaneshwar  Female         Mrs  champa karketta      NO   \n",
       "\n",
       "   Children     Occupation Mode_transport  cases/1M  Deaths/1M  \\\n",
       "0       1.0         Farmer         Public         2          0   \n",
       "1       2.0         Farmer           Walk         2          0   \n",
       "2       1.0        Cleaner         Public         2          0   \n",
       "3       1.0         Driver            Car         2          0   \n",
       "4       2.0  Manufacturing            Car         2          0   \n",
       "\n",
       "              comorbidity  Age  Coma score Pulmonary score  \\\n",
       "0            Hypertension   68           8            <400   \n",
       "1                Diabetes   64          15            <100   \n",
       "2                    None   19          13            <300   \n",
       "3  Coronary Heart Disease   33           9            <200   \n",
       "4                Diabetes   23           7            <400   \n",
       "\n",
       "  cardiological pressure  Diuresis  Platelets    HBB  d-dimer  Heart rate  \\\n",
       "0                 Normal     441.0      154.0   93.0    233.0        82.0   \n",
       "1               Stage-02       NaN      121.0   56.0    328.0        89.0   \n",
       "2               Elevated     416.0      124.0  137.0    213.0        77.0   \n",
       "3               Stage-01     410.0       98.0  167.0    275.0        64.0   \n",
       "4                 Normal     390.0       21.0  153.0    331.0        71.0   \n",
       "\n",
       "   HDL cholesterol  Charlson Index  Blood Glucose  Insurance   salary  \\\n",
       "0             58.0              27              7  3600000.0  1300000   \n",
       "1             68.0               5              6  1600000.0   400000   \n",
       "2             43.0              40              6  3400000.0   900000   \n",
       "3             60.0              27              7   700000.0  2300000   \n",
       "4             64.0              32              7  3200000.0  1100000   \n",
       "\n",
       "   FT/month  Infect_Prob  \n",
       "0       2.0    49.135010  \n",
       "1       1.0    51.147880  \n",
       "2       1.0    73.224000  \n",
       "3       1.0    48.779225  \n",
       "4       1.0    87.868800  "
      ]
     },
     "execution_count": 4,
     "metadata": {},
     "output_type": "execute_result"
    }
   ],
   "source": [
    "data_tr.head()"
   ]
  },
  {
   "cell_type": "code",
   "execution_count": 6,
   "metadata": {
    "ExecuteTime": {
     "end_time": "2020-03-20T14:35:38.392473Z",
     "start_time": "2020-03-20T14:35:38.373886Z"
    }
   },
   "outputs": [
    {
     "data": {
      "text/html": [
       "<div>\n",
       "<style scoped>\n",
       "    .dataframe tbody tr th:only-of-type {\n",
       "        vertical-align: middle;\n",
       "    }\n",
       "\n",
       "    .dataframe tbody tr th {\n",
       "        vertical-align: top;\n",
       "    }\n",
       "\n",
       "    .dataframe thead th {\n",
       "        text-align: right;\n",
       "    }\n",
       "</style>\n",
       "<table border=\"1\" class=\"dataframe\">\n",
       "  <thead>\n",
       "    <tr style=\"text-align: right;\">\n",
       "      <th></th>\n",
       "      <th>people_ID</th>\n",
       "      <th>Region</th>\n",
       "      <th>Gender</th>\n",
       "      <th>Designation</th>\n",
       "      <th>Name</th>\n",
       "      <th>Married</th>\n",
       "      <th>Children</th>\n",
       "      <th>Occupation</th>\n",
       "      <th>Mode_transport</th>\n",
       "      <th>cases/1M</th>\n",
       "      <th>Deaths/1M</th>\n",
       "      <th>comorbidity</th>\n",
       "      <th>Age</th>\n",
       "      <th>Coma score</th>\n",
       "      <th>Pulmonary score</th>\n",
       "      <th>cardiological pressure</th>\n",
       "      <th>Diuresis</th>\n",
       "      <th>Platelets</th>\n",
       "      <th>HBB</th>\n",
       "      <th>d-dimer</th>\n",
       "      <th>Heart rate</th>\n",
       "      <th>HDL cholesterol</th>\n",
       "      <th>Charlson Index</th>\n",
       "      <th>Blood Glucose</th>\n",
       "      <th>Insurance</th>\n",
       "      <th>salary</th>\n",
       "      <th>FT/month</th>\n",
       "      <th>Infect_Prob</th>\n",
       "    </tr>\n",
       "  </thead>\n",
       "  <tbody>\n",
       "    <tr>\n",
       "      <th>3</th>\n",
       "      <td>4</td>\n",
       "      <td>Bhubaneshwar</td>\n",
       "      <td>Female</td>\n",
       "      <td>Mrs</td>\n",
       "      <td>anjali @ babli</td>\n",
       "      <td>YES</td>\n",
       "      <td>1.0</td>\n",
       "      <td>Driver</td>\n",
       "      <td>Car</td>\n",
       "      <td>2</td>\n",
       "      <td>0</td>\n",
       "      <td>Coronary Heart Disease</td>\n",
       "      <td>33</td>\n",
       "      <td>9</td>\n",
       "      <td>&lt;200</td>\n",
       "      <td>Stage-01</td>\n",
       "      <td>410.0</td>\n",
       "      <td>98.0</td>\n",
       "      <td>167.0</td>\n",
       "      <td>275.0</td>\n",
       "      <td>64.0</td>\n",
       "      <td>60.0</td>\n",
       "      <td>27</td>\n",
       "      <td>7</td>\n",
       "      <td>700000.0</td>\n",
       "      <td>2300000</td>\n",
       "      <td>1.0</td>\n",
       "      <td>48.779225</td>\n",
       "    </tr>\n",
       "  </tbody>\n",
       "</table>\n",
       "</div>"
      ],
      "text/plain": [
       "   people_ID        Region  Gender Designation            Name Married  \\\n",
       "3          4  Bhubaneshwar  Female         Mrs  anjali @ babli     YES   \n",
       "\n",
       "   Children Occupation Mode_transport  cases/1M  Deaths/1M  \\\n",
       "3       1.0     Driver            Car         2          0   \n",
       "\n",
       "              comorbidity  Age  Coma score Pulmonary score  \\\n",
       "3  Coronary Heart Disease   33           9            <200   \n",
       "\n",
       "  cardiological pressure  Diuresis  Platelets    HBB  d-dimer  Heart rate  \\\n",
       "3               Stage-01     410.0       98.0  167.0    275.0        64.0   \n",
       "\n",
       "   HDL cholesterol  Charlson Index  Blood Glucose  Insurance   salary  \\\n",
       "3             60.0              27              7   700000.0  2300000   \n",
       "\n",
       "   FT/month  Infect_Prob  \n",
       "3       1.0    48.779225  "
      ]
     },
     "execution_count": 6,
     "metadata": {},
     "output_type": "execute_result"
    }
   ],
   "source": [
    "data_tr[data_tr['people_ID']==4]"
   ]
  },
  {
   "cell_type": "code",
   "execution_count": 7,
   "metadata": {
    "ExecuteTime": {
     "end_time": "2020-03-20T14:35:54.794696Z",
     "start_time": "2020-03-20T14:35:54.790885Z"
    }
   },
   "outputs": [
    {
     "data": {
      "text/plain": [
       "(10714, 10714)"
      ]
     },
     "execution_count": 7,
     "metadata": {},
     "output_type": "execute_result"
    }
   ],
   "source": [
    "len(data_tr['people_ID']),len(data_tr['people_ID'].unique())"
   ]
  },
  {
   "cell_type": "code",
   "execution_count": 8,
   "metadata": {
    "ExecuteTime": {
     "end_time": "2020-03-20T14:37:33.623010Z",
     "start_time": "2020-03-20T14:37:33.618448Z"
    }
   },
   "outputs": [
    {
     "data": {
      "text/plain": [
       "0        441.0\n",
       "1          NaN\n",
       "2        416.0\n",
       "3        410.0\n",
       "4        390.0\n",
       "         ...  \n",
       "10709    134.0\n",
       "10710    387.0\n",
       "10711    177.0\n",
       "10712    352.0\n",
       "10713    181.0\n",
       "Name: Diuresis, Length: 10714, dtype: float64"
      ]
     },
     "execution_count": 8,
     "metadata": {},
     "output_type": "execute_result"
    }
   ],
   "source": [
    "data_tr['Diuresis']"
   ]
  },
  {
   "cell_type": "code",
   "execution_count": 10,
   "metadata": {
    "ExecuteTime": {
     "end_time": "2020-03-20T14:39:51.448396Z",
     "start_time": "2020-03-20T14:39:51.444639Z"
    }
   },
   "outputs": [
    {
     "data": {
      "text/plain": [
       "97.632"
      ]
     },
     "execution_count": 10,
     "metadata": {},
     "output_type": "execute_result"
    }
   ],
   "source": [
    "max(data_tr['Infect_Prob'])"
   ]
  },
  {
   "cell_type": "code",
   "execution_count": 11,
   "metadata": {
    "ExecuteTime": {
     "end_time": "2020-03-20T14:39:51.484408Z",
     "start_time": "2020-03-20T14:39:51.449517Z"
    }
   },
   "outputs": [],
   "source": [
    "data_tr = data_tr.replace('None',0)\n",
    "data_tr = data_tr.replace('nan',0)"
   ]
  },
  {
   "cell_type": "code",
   "execution_count": 12,
   "metadata": {
    "ExecuteTime": {
     "end_time": "2020-03-20T14:39:51.489209Z",
     "start_time": "2020-03-20T14:39:51.485564Z"
    }
   },
   "outputs": [
    {
     "data": {
      "text/plain": [
       "array(['Hypertension', 'Diabetes', 0, 'Coronary Heart Disease', nan], dtype=object)"
      ]
     },
     "execution_count": 12,
     "metadata": {},
     "output_type": "execute_result"
    }
   ],
   "source": [
    "data_tr['comorbidity'].unique()"
   ]
  },
  {
   "cell_type": "code",
   "execution_count": 13,
   "metadata": {
    "ExecuteTime": {
     "end_time": "2020-03-20T14:39:51.499356Z",
     "start_time": "2020-03-20T14:39:51.490430Z"
    }
   },
   "outputs": [],
   "source": [
    "dropp = ['people_ID','Name','Designation']"
   ]
  },
  {
   "cell_type": "code",
   "execution_count": 14,
   "metadata": {
    "ExecuteTime": {
     "end_time": "2020-03-20T14:39:51.514636Z",
     "start_time": "2020-03-20T14:39:51.500390Z"
    }
   },
   "outputs": [],
   "source": [
    "data_tr = data_tr.drop(dropp,axis=1)"
   ]
  },
  {
   "cell_type": "code",
   "execution_count": 15,
   "metadata": {
    "ExecuteTime": {
     "end_time": "2020-03-20T14:39:51.529833Z",
     "start_time": "2020-03-20T14:39:51.518177Z"
    }
   },
   "outputs": [
    {
     "data": {
      "text/plain": [
       "Index(['Region', 'Gender', 'Married', 'Children', 'Occupation',\n",
       "       'Mode_transport', 'cases/1M', 'Deaths/1M', 'comorbidity', 'Age',\n",
       "       'Coma score', 'Pulmonary score', 'cardiological pressure', 'Diuresis',\n",
       "       'Platelets', 'HBB', 'd-dimer', 'Heart rate', 'HDL cholesterol',\n",
       "       'Charlson Index', 'Blood Glucose', 'Insurance', 'salary', 'FT/month',\n",
       "       'Infect_Prob'],\n",
       "      dtype='object')"
      ]
     },
     "execution_count": 15,
     "metadata": {},
     "output_type": "execute_result"
    }
   ],
   "source": [
    "data_tr.columns"
   ]
  },
  {
   "cell_type": "code",
   "execution_count": 16,
   "metadata": {
    "ExecuteTime": {
     "end_time": "2020-03-20T14:39:51.545502Z",
     "start_time": "2020-03-20T14:39:51.533490Z"
    }
   },
   "outputs": [],
   "source": [
    "data_tr = data_tr.fillna(0)"
   ]
  },
  {
   "cell_type": "code",
   "execution_count": 17,
   "metadata": {
    "ExecuteTime": {
     "end_time": "2020-03-20T14:39:51.563609Z",
     "start_time": "2020-03-20T14:39:51.547300Z"
    }
   },
   "outputs": [],
   "source": [
    "for a in ['Region', 'Gender', 'Married','Occupation',\n",
    "       'Mode_transport','comorbidity', 'Pulmonary score', 'cardiological pressure']:\n",
    "    data_tr[a] = data_tr[a].astype('category').cat.codes"
   ]
  },
  {
   "cell_type": "code",
   "execution_count": 18,
   "metadata": {
    "ExecuteTime": {
     "end_time": "2020-03-20T14:39:51.930585Z",
     "start_time": "2020-03-20T14:39:51.565038Z"
    }
   },
   "outputs": [],
   "source": [
    "from sklearn.ensemble import RandomForestRegressor\n",
    "from sklearn.model_selection import train_test_split"
   ]
  },
  {
   "cell_type": "code",
   "execution_count": 19,
   "metadata": {
    "ExecuteTime": {
     "end_time": "2020-03-20T14:39:51.937685Z",
     "start_time": "2020-03-20T14:39:51.931597Z"
    }
   },
   "outputs": [],
   "source": [
    "X,y = data_tr.drop('Infect_Prob',axis = 1),data_tr['Infect_Prob']"
   ]
  },
  {
   "cell_type": "code",
   "execution_count": 20,
   "metadata": {
    "ExecuteTime": {
     "end_time": "2020-03-20T14:39:51.962272Z",
     "start_time": "2020-03-20T14:39:51.939046Z"
    }
   },
   "outputs": [],
   "source": [
    "X_train, X_test, y_train, y_test = train_test_split(X, y, test_size=0.33, random_state=42)"
   ]
  },
  {
   "cell_type": "markdown",
   "metadata": {},
   "source": [
    "# Random Forest"
   ]
  },
  {
   "cell_type": "code",
   "execution_count": 282,
   "metadata": {
    "ExecuteTime": {
     "end_time": "2020-03-20T14:15:38.767638Z",
     "start_time": "2020-03-20T14:15:38.340445Z"
    }
   },
   "outputs": [
    {
     "name": "stderr",
     "output_type": "stream",
     "text": [
      "/home/subhaditya/.local/lib/python3.7/site-packages/sklearn/ensemble/forest.py:245: FutureWarning: The default value of n_estimators will change from 10 in version 0.20 to 100 in 0.22.\n",
      "  \"10 in version 0.20 to 100 in 0.22.\", FutureWarning)\n"
     ]
    },
    {
     "data": {
      "text/plain": [
       "RandomForestRegressor(bootstrap=True, criterion='mse', max_depth=None,\n",
       "                      max_features='auto', max_leaf_nodes=None,\n",
       "                      min_impurity_decrease=0.0, min_impurity_split=None,\n",
       "                      min_samples_leaf=1, min_samples_split=2,\n",
       "                      min_weight_fraction_leaf=0.0, n_estimators=10,\n",
       "                      n_jobs=None, oob_score=False, random_state=None,\n",
       "                      verbose=0, warm_start=False)"
      ]
     },
     "execution_count": 282,
     "metadata": {},
     "output_type": "execute_result"
    }
   ],
   "source": [
    "clf = RandomForestRegressor()\n",
    "clf.fit(X_train,y_train)"
   ]
  },
  {
   "cell_type": "code",
   "execution_count": 283,
   "metadata": {
    "ExecuteTime": {
     "end_time": "2020-03-20T14:15:38.778779Z",
     "start_time": "2020-03-20T14:15:38.768553Z"
    }
   },
   "outputs": [
    {
     "data": {
      "text/plain": [
       "0.22401526468496455"
      ]
     },
     "execution_count": 283,
     "metadata": {},
     "output_type": "execute_result"
    }
   ],
   "source": [
    "clf.score(X_test,y_test)"
   ]
  },
  {
   "cell_type": "code",
   "execution_count": 284,
   "metadata": {
    "ExecuteTime": {
     "end_time": "2020-03-20T14:15:38.795171Z",
     "start_time": "2020-03-20T14:15:38.779866Z"
    }
   },
   "outputs": [],
   "source": [
    "import xgboost"
   ]
  },
  {
   "cell_type": "code",
   "execution_count": 285,
   "metadata": {
    "ExecuteTime": {
     "end_time": "2020-03-20T14:15:39.129533Z",
     "start_time": "2020-03-20T14:15:38.796194Z"
    }
   },
   "outputs": [
    {
     "name": "stdout",
     "output_type": "stream",
     "text": [
      "[18:15:38] WARNING: /home/conda/feedstock_root/build_artifacts/xgboost_1572314959925/work/src/objective/regression_obj.cu:152: reg:linear is now deprecated in favor of reg:squarederror.\n"
     ]
    },
    {
     "data": {
      "text/plain": [
       "XGBRegressor(base_score=0.5, booster='gbtree', colsample_bylevel=1,\n",
       "             colsample_bynode=1, colsample_bytree=1, gamma=0,\n",
       "             importance_type='gain', learning_rate=0.1, max_delta_step=0,\n",
       "             max_depth=3, min_child_weight=1, missing=None, n_estimators=100,\n",
       "             n_jobs=1, nthread=None, objective='reg:linear', random_state=0,\n",
       "             reg_alpha=0, reg_lambda=1, scale_pos_weight=1, seed=None,\n",
       "             silent=None, subsample=1, verbosity=1)"
      ]
     },
     "execution_count": 285,
     "metadata": {},
     "output_type": "execute_result"
    }
   ],
   "source": [
    "clf = xgboost.XGBRegressor()\n",
    "clf.fit(X_train,y_train)"
   ]
  },
  {
   "cell_type": "code",
   "execution_count": 286,
   "metadata": {
    "ExecuteTime": {
     "end_time": "2020-03-20T14:15:39.142947Z",
     "start_time": "2020-03-20T14:15:39.130627Z"
    }
   },
   "outputs": [
    {
     "data": {
      "text/plain": [
       "0.3066105808381775"
      ]
     },
     "execution_count": 286,
     "metadata": {},
     "output_type": "execute_result"
    }
   ],
   "source": [
    "clf.score(X_test,y_test)"
   ]
  },
  {
   "cell_type": "code",
   "execution_count": 287,
   "metadata": {
    "ExecuteTime": {
     "end_time": "2020-03-20T14:15:39.154732Z",
     "start_time": "2020-03-20T14:15:39.144099Z"
    }
   },
   "outputs": [],
   "source": [
    "from sklearn.metrics import mean_squared_error"
   ]
  },
  {
   "cell_type": "code",
   "execution_count": 288,
   "metadata": {
    "ExecuteTime": {
     "end_time": "2020-03-20T14:15:39.174669Z",
     "start_time": "2020-03-20T14:15:39.156061Z"
    }
   },
   "outputs": [
    {
     "data": {
      "text/plain": [
       "8.7217963436789"
      ]
     },
     "execution_count": 288,
     "metadata": {},
     "output_type": "execute_result"
    }
   ],
   "source": [
    "np.sqrt(mean_squared_error(y_test,clf.predict(X_test)))"
   ]
  },
  {
   "cell_type": "code",
   "execution_count": 289,
   "metadata": {
    "ExecuteTime": {
     "end_time": "2020-03-20T14:15:39.188178Z",
     "start_time": "2020-03-20T14:15:39.175812Z"
    }
   },
   "outputs": [
    {
     "data": {
      "text/plain": [
       "array([47.22213 , 48.681137, 48.219807, 47.726215, ..., 48.084465, 50.376186, 47.51533 , 50.14473 ], dtype=float32)"
      ]
     },
     "execution_count": 289,
     "metadata": {},
     "output_type": "execute_result"
    }
   ],
   "source": [
    "clf.predict(X_test)"
   ]
  },
  {
   "cell_type": "markdown",
   "metadata": {},
   "source": [
    "# Light"
   ]
  },
  {
   "cell_type": "code",
   "execution_count": 290,
   "metadata": {
    "ExecuteTime": {
     "end_time": "2020-03-20T14:15:39.191279Z",
     "start_time": "2020-03-20T14:15:39.189412Z"
    }
   },
   "outputs": [],
   "source": [
    "import lightgbm as lgb"
   ]
  },
  {
   "cell_type": "code",
   "execution_count": 291,
   "metadata": {
    "ExecuteTime": {
     "end_time": "2020-03-20T14:15:39.203569Z",
     "start_time": "2020-03-20T14:15:39.193387Z"
    }
   },
   "outputs": [],
   "source": [
    "lgb_train = lgb.Dataset(X_train, y_train)\n",
    "lgb_eval = lgb.Dataset(X_test, y_test, reference=lgb_train)"
   ]
  },
  {
   "cell_type": "code",
   "execution_count": 292,
   "metadata": {
    "ExecuteTime": {
     "end_time": "2020-03-20T14:15:39.215116Z",
     "start_time": "2020-03-20T14:15:39.207328Z"
    }
   },
   "outputs": [],
   "source": [
    "params = {\n",
    "    'boosting_type': 'dart',\n",
    "    'objective': 'regression',\n",
    "    'metric': {'l2', 'l1'},\n",
    "    'learning_rate': 0.05,\n",
    "    'feature_fraction': 0.9,\n",
    "    'bagging_fraction': 0.8,\n",
    "    'bagging_freq': 5,\n",
    "    'verbose': 0\n",
    "}\n"
   ]
  },
  {
   "cell_type": "code",
   "execution_count": 293,
   "metadata": {
    "ExecuteTime": {
     "end_time": "2020-03-20T14:15:39.305825Z",
     "start_time": "2020-03-20T14:15:39.217704Z"
    }
   },
   "outputs": [
    {
     "name": "stdout",
     "output_type": "stream",
     "text": [
      "[1]\tvalid_0's l2: 105.925\tvalid_0's l1: 6.54403\n",
      "[2]\tvalid_0's l2: 102.65\tvalid_0's l1: 6.36543\n",
      "[3]\tvalid_0's l2: 99.8492\tvalid_0's l1: 6.19579\n",
      "[4]\tvalid_0's l2: 97.4556\tvalid_0's l1: 6.03842\n",
      "[5]\tvalid_0's l2: 95.0442\tvalid_0's l1: 5.88531\n",
      "[6]\tvalid_0's l2: 93.0067\tvalid_0's l1: 5.74529\n",
      "[7]\tvalid_0's l2: 91.0887\tvalid_0's l1: 5.6119\n",
      "[8]\tvalid_0's l2: 91.8533\tvalid_0's l1: 5.66803\n",
      "[9]\tvalid_0's l2: 90.1899\tvalid_0's l1: 5.54272\n",
      "[10]\tvalid_0's l2: 88.4033\tvalid_0's l1: 5.4188\n",
      "[11]\tvalid_0's l2: 87.0298\tvalid_0's l1: 5.30656\n",
      "[12]\tvalid_0's l2: 87.6335\tvalid_0's l1: 5.3523\n",
      "[13]\tvalid_0's l2: 86.2044\tvalid_0's l1: 5.24258\n",
      "[14]\tvalid_0's l2: 85.0358\tvalid_0's l1: 5.14199\n",
      "[15]\tvalid_0's l2: 84.0866\tvalid_0's l1: 5.05115\n",
      "[16]\tvalid_0's l2: 83.2834\tvalid_0's l1: 4.98602\n",
      "[17]\tvalid_0's l2: 82.3915\tvalid_0's l1: 4.90222\n",
      "[18]\tvalid_0's l2: 81.7889\tvalid_0's l1: 4.82792\n",
      "[19]\tvalid_0's l2: 81.1328\tvalid_0's l1: 4.75715\n",
      "[20]\tvalid_0's l2: 80.6171\tvalid_0's l1: 4.7072\n"
     ]
    },
    {
     "name": "stderr",
     "output_type": "stream",
     "text": [
      "/home/subhaditya/anaconda3/lib/python3.7/site-packages/lightgbm/callback.py:192: UserWarning: Early stopping is not available in dart mode\n",
      "  warnings.warn('Early stopping is not available in dart mode')\n"
     ]
    }
   ],
   "source": [
    "gbm = lgb.train(params,\n",
    "                lgb_train,\n",
    "                num_boost_round=20,\n",
    "                valid_sets=lgb_eval,\n",
    "                early_stopping_rounds=5)\n",
    "y_pred = gbm.predict(X_test, num_iteration=gbm.best_iteration)"
   ]
  },
  {
   "cell_type": "code",
   "execution_count": 294,
   "metadata": {
    "ExecuteTime": {
     "end_time": "2020-03-20T14:15:39.310316Z",
     "start_time": "2020-03-20T14:15:39.307058Z"
    }
   },
   "outputs": [
    {
     "data": {
      "text/plain": [
       "8.978703484284662"
      ]
     },
     "execution_count": 294,
     "metadata": {},
     "output_type": "execute_result"
    }
   ],
   "source": [
    "np.sqrt(mean_squared_error(y_test,y_pred))"
   ]
  },
  {
   "cell_type": "code",
   "execution_count": null,
   "metadata": {},
   "outputs": [],
   "source": []
  },
  {
   "cell_type": "code",
   "execution_count": null,
   "metadata": {},
   "outputs": [],
   "source": []
  },
  {
   "cell_type": "code",
   "execution_count": null,
   "metadata": {},
   "outputs": [],
   "source": []
  },
  {
   "cell_type": "code",
   "execution_count": null,
   "metadata": {},
   "outputs": [],
   "source": []
  },
  {
   "cell_type": "markdown",
   "metadata": {},
   "source": [
    "# fastai"
   ]
  },
  {
   "cell_type": "code",
   "execution_count": 21,
   "metadata": {
    "ExecuteTime": {
     "end_time": "2020-03-20T14:40:05.359210Z",
     "start_time": "2020-03-20T14:40:03.058002Z"
    }
   },
   "outputs": [],
   "source": [
    "data_tr = pd.read_excel('data/Train_dataset.xlsx')"
   ]
  },
  {
   "cell_type": "code",
   "execution_count": 22,
   "metadata": {
    "ExecuteTime": {
     "end_time": "2020-03-20T14:40:05.369647Z",
     "start_time": "2020-03-20T14:40:05.360309Z"
    }
   },
   "outputs": [],
   "source": [
    "dropp = ['people_ID','Name','Designation']\n",
    "\n",
    "data_tr = data_tr.drop(dropp,axis=1)\n",
    "data_tr = data_tr.replace('None',0)\n",
    "data_tr = data_tr.replace('nan',0)"
   ]
  },
  {
   "cell_type": "code",
   "execution_count": 23,
   "metadata": {
    "ExecuteTime": {
     "end_time": "2020-03-20T14:40:05.379502Z",
     "start_time": "2020-03-20T14:40:05.370937Z"
    }
   },
   "outputs": [
    {
     "data": {
      "text/plain": [
       "(10714, 25)"
      ]
     },
     "execution_count": 23,
     "metadata": {},
     "output_type": "execute_result"
    }
   ],
   "source": [
    "data_tr.shape"
   ]
  },
  {
   "cell_type": "code",
   "execution_count": 24,
   "metadata": {
    "ExecuteTime": {
     "end_time": "2020-03-20T14:40:05.393468Z",
     "start_time": "2020-03-20T14:40:05.380562Z"
    }
   },
   "outputs": [],
   "source": [
    "procs = [FillMissing, Categorify, Normalize]\n"
   ]
  },
  {
   "cell_type": "code",
   "execution_count": 25,
   "metadata": {
    "ExecuteTime": {
     "end_time": "2020-03-20T14:40:05.404372Z",
     "start_time": "2020-03-20T14:40:05.394555Z"
    }
   },
   "outputs": [],
   "source": [
    "valid_idx = range(len(data_tr)-2000, len(data_tr))\n"
   ]
  },
  {
   "cell_type": "code",
   "execution_count": 26,
   "metadata": {
    "ExecuteTime": {
     "end_time": "2020-03-20T14:40:05.414482Z",
     "start_time": "2020-03-20T14:40:05.405349Z"
    }
   },
   "outputs": [],
   "source": [
    "dep_var = 'Infect_Prob'\n",
    "cat_names = ['Region', 'Gender', 'Married','Occupation',\n",
    "       'Mode_transport','comorbidity', 'Pulmonary score', 'cardiological pressure']\n"
   ]
  },
  {
   "cell_type": "code",
   "execution_count": 27,
   "metadata": {
    "ExecuteTime": {
     "end_time": "2020-03-20T14:40:07.714262Z",
     "start_time": "2020-03-20T14:40:05.415612Z"
    }
   },
   "outputs": [],
   "source": [
    "test_data = pd.read_excel('data/Test_dataset.xlsx')\n",
    "dropp = ['people_ID','Name','Designation']\n",
    "\n",
    "test_data = test_data.drop(dropp,axis=1)"
   ]
  },
  {
   "cell_type": "code",
   "execution_count": 28,
   "metadata": {
    "ExecuteTime": {
     "end_time": "2020-03-20T14:40:07.792062Z",
     "start_time": "2020-03-20T14:40:07.715662Z"
    }
   },
   "outputs": [],
   "source": [
    "data = (TabularList.from_df(data_tr, path=Path('data/'), cat_names=cat_names, procs=procs)\n",
    "                   .split_by_idx(valid_idx)\n",
    "                   .label_from_df(cols=dep_var, label_cls=FloatList)\n",
    "                    .add_test(TabularList.from_df(test_data, path=Path('data/')))\n",
    "                   .databunch())"
   ]
  },
  {
   "cell_type": "code",
   "execution_count": 29,
   "metadata": {
    "ExecuteTime": {
     "end_time": "2020-03-20T14:40:07.801822Z",
     "start_time": "2020-03-20T14:40:07.795176Z"
    },
    "scrolled": true
   },
   "outputs": [
    {
     "data": {
      "text/plain": [
       "TabularDataBunch;\n",
       "\n",
       "Train: LabelList (8714 items)\n",
       "x: TabularList\n",
       "Region Bhubaneshwar; Gender Female; Married YES; Occupation Farmer; Mode_transport Public; comorbidity Hypertension; Pulmonary score <400; cardiological pressure Normal; ,Region Bhubaneshwar; Gender Female; Married YES; Occupation Farmer; Mode_transport Walk; comorbidity Diabetes; Pulmonary score <100; cardiological pressure Stage-02; ,Region Bhubaneshwar; Gender Female; Married NO; Occupation Cleaner; Mode_transport Public; comorbidity 0; Pulmonary score <300; cardiological pressure Elevated; ,Region Bhubaneshwar; Gender Female; Married YES; Occupation Driver; Mode_transport Car; comorbidity Coronary Heart Disease; Pulmonary score <200; cardiological pressure Stage-01; ,Region Bhubaneshwar; Gender Female; Married NO; Occupation Manufacturing; Mode_transport Car; comorbidity Diabetes; Pulmonary score <400; cardiological pressure Normal; \n",
       "y: FloatList\n",
       "49.13501,51.14788,73.224,48.779224,87.8688\n",
       "Path: data;\n",
       "\n",
       "Valid: LabelList (2000 items)\n",
       "x: TabularList\n",
       "Region Chennai; Gender Male; Married YES; Occupation Business; Mode_transport Public; comorbidity 0; Pulmonary score <400; cardiological pressure Normal; ,Region Chennai; Gender Male; Married YES; Occupation Researcher; Mode_transport Car; comorbidity #na#; Pulmonary score <300; cardiological pressure Elevated; ,Region Chennai; Gender Male; Married YES; Occupation Driver; Mode_transport Walk; comorbidity Diabetes; Pulmonary score <400; cardiological pressure Normal; ,Region Chennai; Gender Male; Married YES; Occupation Business; Mode_transport Car; comorbidity Coronary Heart Disease; Pulmonary score <100; cardiological pressure Stage-02; ,Region Chennai; Gender Male; Married YES; Occupation Farmer; Mode_transport Walk; comorbidity 0; Pulmonary score <300; cardiological pressure Elevated; \n",
       "y: FloatList\n",
       "49.137177,49.869602,48.38204,51.118504,49.7402\n",
       "Path: data;\n",
       "\n",
       "Test: LabelList (14498 items)\n",
       "x: TabularList\n",
       "Region Delhi; Gender Female; Married YES; Occupation Driver; Mode_transport Public; comorbidity Diabetes; Pulmonary score <200; cardiological pressure Stage-01; ,Region Delhi; Gender Male; Married YES; Occupation Legal; Mode_transport Walk; comorbidity Diabetes; Pulmonary score <200; cardiological pressure Stage-01; ,Region Delhi; Gender Female; Married YES; Occupation Sales; Mode_transport Car; comorbidity Diabetes; Pulmonary score <100; cardiological pressure Stage-02; ,Region Delhi; Gender Female; Married YES; Occupation Sales; Mode_transport Car; comorbidity #na#; Pulmonary score <300; cardiological pressure Elevated; ,Region Delhi; Gender Female; Married YES; Occupation Business; Mode_transport Car; comorbidity Diabetes; Pulmonary score <200; cardiological pressure Stage-01; \n",
       "y: EmptyLabelList\n",
       ",,,,\n",
       "Path: data"
      ]
     },
     "execution_count": 29,
     "metadata": {},
     "output_type": "execute_result"
    }
   ],
   "source": [
    "data"
   ]
  },
  {
   "cell_type": "code",
   "execution_count": 30,
   "metadata": {
    "ExecuteTime": {
     "end_time": "2020-03-20T14:40:09.192707Z",
     "start_time": "2020-03-20T14:40:07.803833Z"
    },
    "scrolled": true
   },
   "outputs": [
    {
     "data": {
      "text/html": [
       "\n",
       "    <div>\n",
       "        <style>\n",
       "            /* Turns off some styling */\n",
       "            progress {\n",
       "                /* gets rid of default border in Firefox and Opera. */\n",
       "                border: none;\n",
       "                /* Needs to be in here for Safari polyfill so background images work as expected. */\n",
       "                background-size: auto;\n",
       "            }\n",
       "            .progress-bar-interrupted, .progress-bar-interrupted::-webkit-progress-bar {\n",
       "                background: #F44336;\n",
       "            }\n",
       "        </style>\n",
       "      <progress value='0' class='' max='1', style='width:300px; height:20px; vertical-align: middle;'></progress>\n",
       "      0.00% [0/1 00:00<00:00]\n",
       "    </div>\n",
       "    \n",
       "<table border=\"1\" class=\"dataframe\">\n",
       "  <thead>\n",
       "    <tr style=\"text-align: left;\">\n",
       "      <th>epoch</th>\n",
       "      <th>train_loss</th>\n",
       "      <th>valid_loss</th>\n",
       "      <th>root_mean_squared_error</th>\n",
       "      <th>r2_score</th>\n",
       "      <th>mean_absolute_error</th>\n",
       "      <th>time</th>\n",
       "    </tr>\n",
       "  </thead>\n",
       "  <tbody>\n",
       "  </tbody>\n",
       "</table><p>\n",
       "\n",
       "    <div>\n",
       "        <style>\n",
       "            /* Turns off some styling */\n",
       "            progress {\n",
       "                /* gets rid of default border in Firefox and Opera. */\n",
       "                border: none;\n",
       "                /* Needs to be in here for Safari polyfill so background images work as expected. */\n",
       "                background-size: auto;\n",
       "            }\n",
       "            .progress-bar-interrupted, .progress-bar-interrupted::-webkit-progress-bar {\n",
       "                background: #F44336;\n",
       "            }\n",
       "        </style>\n",
       "      <progress value='86' class='' max='136', style='width:300px; height:20px; vertical-align: middle;'></progress>\n",
       "      63.24% [86/136 00:00<00:00 2168.5276]\n",
       "    </div>\n",
       "    "
      ],
      "text/plain": [
       "<IPython.core.display.HTML object>"
      ]
     },
     "metadata": {},
     "output_type": "display_data"
    },
    {
     "name": "stdout",
     "output_type": "stream",
     "text": [
      "LR Finder is complete, type {learner_name}.recorder.plot() to see the graph.\n"
     ]
    }
   ],
   "source": [
    "learn = tabular_learner(data, layers=[200,100], metrics=[rmse,r2_score,mean_absolute_error])\n",
    "learn.lr_find()\n"
   ]
  },
  {
   "cell_type": "code",
   "execution_count": 305,
   "metadata": {
    "ExecuteTime": {
     "end_time": "2020-03-20T14:17:01.383038Z",
     "start_time": "2020-03-20T14:17:01.115674Z"
    }
   },
   "outputs": [
    {
     "data": {
      "image/png": "[encoded data removed]",
      "text/plain": [
       "<Figure size 432x288 with 1 Axes>"
      ]
     },
     "metadata": {
      "needs_background": "light"
     },
     "output_type": "display_data"
    }
   ],
   "source": [
    "learn.recorder.plot()"
   ]
  },
  {
   "cell_type": "code",
   "execution_count": 31,
   "metadata": {
    "ExecuteTime": {
     "end_time": "2020-03-20T14:40:17.550083Z",
     "start_time": "2020-03-20T14:40:17.223856Z"
    },
    "scrolled": true
   },
   "outputs": [
    {
     "data": {
      "text/plain": [
       "Learner(data=TabularDataBunch;\n",
       "\n",
       "Train: LabelList (8714 items)\n",
       "x: TabularList\n",
       "Region Bhubaneshwar; Gender Female; Married YES; Occupation Farmer; Mode_transport Public; comorbidity Hypertension; Pulmonary score <400; cardiological pressure Normal; ,Region Bhubaneshwar; Gender Female; Married YES; Occupation Farmer; Mode_transport Walk; comorbidity Diabetes; Pulmonary score <100; cardiological pressure Stage-02; ,Region Bhubaneshwar; Gender Female; Married NO; Occupation Cleaner; Mode_transport Public; comorbidity 0; Pulmonary score <300; cardiological pressure Elevated; ,Region Bhubaneshwar; Gender Female; Married YES; Occupation Driver; Mode_transport Car; comorbidity Coronary Heart Disease; Pulmonary score <200; cardiological pressure Stage-01; ,Region Bhubaneshwar; Gender Female; Married NO; Occupation Manufacturing; Mode_transport Car; comorbidity Diabetes; Pulmonary score <400; cardiological pressure Normal; \n",
       "y: FloatList\n",
       "49.13501,51.14788,73.224,48.779224,87.8688\n",
       "Path: data;\n",
       "\n",
       "Valid: LabelList (2000 items)\n",
       "x: TabularList\n",
       "Region Chennai; Gender Male; Married YES; Occupation Business; Mode_transport Public; comorbidity 0; Pulmonary score <400; cardiological pressure Normal; ,Region Chennai; Gender Male; Married YES; Occupation Researcher; Mode_transport Car; comorbidity #na#; Pulmonary score <300; cardiological pressure Elevated; ,Region Chennai; Gender Male; Married YES; Occupation Driver; Mode_transport Walk; comorbidity Diabetes; Pulmonary score <400; cardiological pressure Normal; ,Region Chennai; Gender Male; Married YES; Occupation Business; Mode_transport Car; comorbidity Coronary Heart Disease; Pulmonary score <100; cardiological pressure Stage-02; ,Region Chennai; Gender Male; Married YES; Occupation Farmer; Mode_transport Walk; comorbidity 0; Pulmonary score <300; cardiological pressure Elevated; \n",
       "y: FloatList\n",
       "49.137177,49.869602,48.38204,51.118504,49.7402\n",
       "Path: data;\n",
       "\n",
       "Test: LabelList (14498 items)\n",
       "x: TabularList\n",
       "Region Delhi; Gender Female; Married YES; Occupation Driver; Mode_transport Public; comorbidity Diabetes; Pulmonary score <200; cardiological pressure Stage-01; ,Region Delhi; Gender Male; Married YES; Occupation Legal; Mode_transport Walk; comorbidity Diabetes; Pulmonary score <200; cardiological pressure Stage-01; ,Region Delhi; Gender Female; Married YES; Occupation Sales; Mode_transport Car; comorbidity Diabetes; Pulmonary score <100; cardiological pressure Stage-02; ,Region Delhi; Gender Female; Married YES; Occupation Sales; Mode_transport Car; comorbidity #na#; Pulmonary score <300; cardiological pressure Elevated; ,Region Delhi; Gender Female; Married YES; Occupation Business; Mode_transport Car; comorbidity Diabetes; Pulmonary score <200; cardiological pressure Stage-01; \n",
       "y: EmptyLabelList\n",
       ",,,,\n",
       "Path: data, model=TabularModel(\n",
       "  (embeds): ModuleList(\n",
       "    (0): Embedding(6, 4)\n",
       "    (1): Embedding(3, 3)\n",
       "    (2): Embedding(3, 3)\n",
       "    (3): Embedding(10, 6)\n",
       "    (4): Embedding(4, 3)\n",
       "    (5): Embedding(5, 4)\n",
       "    (6): Embedding(5, 4)\n",
       "    (7): Embedding(5, 4)\n",
       "  )\n",
       "  (emb_drop): Dropout(p=0.0, inplace=False)\n",
       "  (bn_cont): BatchNorm1d(0, eps=1e-05, momentum=0.1, affine=True, track_running_stats=True)\n",
       "  (layers): Sequential(\n",
       "    (0): Linear(in_features=31, out_features=200, bias=True)\n",
       "    (1): ReLU(inplace=True)\n",
       "    (2): BatchNorm1d(200, eps=1e-05, momentum=0.1, affine=True, track_running_stats=True)\n",
       "    (3): Linear(in_features=200, out_features=100, bias=True)\n",
       "    (4): ReLU(inplace=True)\n",
       "    (5): BatchNorm1d(100, eps=1e-05, momentum=0.1, affine=True, track_running_stats=True)\n",
       "    (6): Linear(in_features=100, out_features=1, bias=True)\n",
       "  )\n",
       "), opt_func=functools.partial(<class 'torch.optim.adam.Adam'>, betas=(0.9, 0.99)), loss_func=FlattenedLoss of MSELoss(), metrics=[<function root_mean_squared_error at 0x7fb9c008b200>, <function r2_score at 0x7fb9c008b3b0>, <function mean_absolute_error at 0x7fb9c008b0e0>], true_wd=True, bn_wd=True, wd=0.01, train_bn=True, path=PosixPath('data'), model_dir='models', callback_fns=[functools.partial(<class 'fastai.basic_train.Recorder'>, add_time=True, silent=False)], callbacks=[], layer_groups=[Sequential(\n",
       "  (0): Embedding(6, 4)\n",
       "  (1): Embedding(3, 3)\n",
       "  (2): Embedding(3, 3)\n",
       "  (3): Embedding(10, 6)\n",
       "  (4): Embedding(4, 3)\n",
       "  (5): Embedding(5, 4)\n",
       "  (6): Embedding(5, 4)\n",
       "  (7): Embedding(5, 4)\n",
       "  (8): Dropout(p=0.0, inplace=False)\n",
       "  (9): BatchNorm1d(0, eps=1e-05, momentum=0.1, affine=True, track_running_stats=True)\n",
       "  (10): Linear(in_features=31, out_features=200, bias=True)\n",
       "  (11): ReLU(inplace=True)\n",
       "  (12): BatchNorm1d(200, eps=1e-05, momentum=0.1, affine=True, track_running_stats=True)\n",
       "  (13): Linear(in_features=200, out_features=100, bias=True)\n",
       "  (14): ReLU(inplace=True)\n",
       "  (15): BatchNorm1d(100, eps=1e-05, momentum=0.1, affine=True, track_running_stats=True)\n",
       "  (16): Linear(in_features=100, out_features=1, bias=True)\n",
       ")], add_time=True, silent=False)"
      ]
     },
     "execution_count": 31,
     "metadata": {},
     "output_type": "execute_result"
    }
   ],
   "source": [
    "learn.load('stage-1')"
   ]
  },
  {
   "cell_type": "code",
   "execution_count": 306,
   "metadata": {
    "ExecuteTime": {
     "end_time": "2020-03-20T14:17:29.763834Z",
     "start_time": "2020-03-20T14:17:06.484146Z"
    },
    "scrolled": true
   },
   "outputs": [
    {
     "data": {
      "text/html": [
       "<table border=\"1\" class=\"dataframe\">\n",
       "  <thead>\n",
       "    <tr style=\"text-align: left;\">\n",
       "      <th>epoch</th>\n",
       "      <th>train_loss</th>\n",
       "      <th>valid_loss</th>\n",
       "      <th>root_mean_squared_error</th>\n",
       "      <th>r2_score</th>\n",
       "      <th>mean_absolute_error</th>\n",
       "      <th>time</th>\n",
       "    </tr>\n",
       "  </thead>\n",
       "  <tbody>\n",
       "    <tr>\n",
       "      <td>0</td>\n",
       "      <td>820.306213</td>\n",
       "      <td>139.127518</td>\n",
       "      <td>11.675797</td>\n",
       "      <td>-0.343078</td>\n",
       "      <td>8.327893</td>\n",
       "      <td>00:01</td>\n",
       "    </tr>\n",
       "    <tr>\n",
       "      <td>1</td>\n",
       "      <td>134.550629</td>\n",
       "      <td>104.548592</td>\n",
       "      <td>10.068160</td>\n",
       "      <td>0.037225</td>\n",
       "      <td>6.717854</td>\n",
       "      <td>00:01</td>\n",
       "    </tr>\n",
       "    <tr>\n",
       "      <td>2</td>\n",
       "      <td>94.202248</td>\n",
       "      <td>138.346863</td>\n",
       "      <td>11.534344</td>\n",
       "      <td>-0.231628</td>\n",
       "      <td>7.296257</td>\n",
       "      <td>00:01</td>\n",
       "    </tr>\n",
       "    <tr>\n",
       "      <td>3</td>\n",
       "      <td>89.539627</td>\n",
       "      <td>97.709587</td>\n",
       "      <td>9.737658</td>\n",
       "      <td>0.114796</td>\n",
       "      <td>6.374194</td>\n",
       "      <td>00:01</td>\n",
       "    </tr>\n",
       "    <tr>\n",
       "      <td>4</td>\n",
       "      <td>91.228539</td>\n",
       "      <td>116.220612</td>\n",
       "      <td>10.617712</td>\n",
       "      <td>-0.108708</td>\n",
       "      <td>6.469683</td>\n",
       "      <td>00:01</td>\n",
       "    </tr>\n",
       "    <tr>\n",
       "      <td>5</td>\n",
       "      <td>90.441109</td>\n",
       "      <td>108.880791</td>\n",
       "      <td>10.311887</td>\n",
       "      <td>-0.004922</td>\n",
       "      <td>7.575676</td>\n",
       "      <td>00:01</td>\n",
       "    </tr>\n",
       "    <tr>\n",
       "      <td>6</td>\n",
       "      <td>90.705620</td>\n",
       "      <td>93.530922</td>\n",
       "      <td>9.534083</td>\n",
       "      <td>0.142375</td>\n",
       "      <td>6.226496</td>\n",
       "      <td>00:01</td>\n",
       "    </tr>\n",
       "    <tr>\n",
       "      <td>7</td>\n",
       "      <td>88.796722</td>\n",
       "      <td>96.671341</td>\n",
       "      <td>9.681839</td>\n",
       "      <td>0.118615</td>\n",
       "      <td>6.434449</td>\n",
       "      <td>00:01</td>\n",
       "    </tr>\n",
       "    <tr>\n",
       "      <td>8</td>\n",
       "      <td>90.865616</td>\n",
       "      <td>96.454147</td>\n",
       "      <td>9.669469</td>\n",
       "      <td>0.120225</td>\n",
       "      <td>6.395252</td>\n",
       "      <td>00:01</td>\n",
       "    </tr>\n",
       "    <tr>\n",
       "      <td>9</td>\n",
       "      <td>85.025291</td>\n",
       "      <td>105.763306</td>\n",
       "      <td>10.112957</td>\n",
       "      <td>0.050835</td>\n",
       "      <td>6.627844</td>\n",
       "      <td>00:01</td>\n",
       "    </tr>\n",
       "    <tr>\n",
       "      <td>10</td>\n",
       "      <td>87.765999</td>\n",
       "      <td>112.985420</td>\n",
       "      <td>10.490192</td>\n",
       "      <td>-0.065497</td>\n",
       "      <td>7.221996</td>\n",
       "      <td>00:01</td>\n",
       "    </tr>\n",
       "    <tr>\n",
       "      <td>11</td>\n",
       "      <td>86.805107</td>\n",
       "      <td>93.065392</td>\n",
       "      <td>9.501055</td>\n",
       "      <td>0.151571</td>\n",
       "      <td>6.133996</td>\n",
       "      <td>00:01</td>\n",
       "    </tr>\n",
       "    <tr>\n",
       "      <td>12</td>\n",
       "      <td>85.929550</td>\n",
       "      <td>97.576508</td>\n",
       "      <td>9.732556</td>\n",
       "      <td>0.095675</td>\n",
       "      <td>6.503403</td>\n",
       "      <td>00:01</td>\n",
       "    </tr>\n",
       "    <tr>\n",
       "      <td>13</td>\n",
       "      <td>87.926498</td>\n",
       "      <td>95.747375</td>\n",
       "      <td>9.645246</td>\n",
       "      <td>0.123859</td>\n",
       "      <td>6.276593</td>\n",
       "      <td>00:01</td>\n",
       "    </tr>\n",
       "    <tr>\n",
       "      <td>14</td>\n",
       "      <td>81.277840</td>\n",
       "      <td>97.601387</td>\n",
       "      <td>9.725145</td>\n",
       "      <td>0.114669</td>\n",
       "      <td>6.523303</td>\n",
       "      <td>00:01</td>\n",
       "    </tr>\n",
       "    <tr>\n",
       "      <td>15</td>\n",
       "      <td>81.755409</td>\n",
       "      <td>93.596924</td>\n",
       "      <td>9.531381</td>\n",
       "      <td>0.142547</td>\n",
       "      <td>6.147408</td>\n",
       "      <td>00:01</td>\n",
       "    </tr>\n",
       "    <tr>\n",
       "      <td>16</td>\n",
       "      <td>83.547165</td>\n",
       "      <td>93.251625</td>\n",
       "      <td>9.505435</td>\n",
       "      <td>0.152281</td>\n",
       "      <td>6.060897</td>\n",
       "      <td>00:01</td>\n",
       "    </tr>\n",
       "    <tr>\n",
       "      <td>17</td>\n",
       "      <td>79.297516</td>\n",
       "      <td>92.955254</td>\n",
       "      <td>9.490250</td>\n",
       "      <td>0.151755</td>\n",
       "      <td>6.051910</td>\n",
       "      <td>00:01</td>\n",
       "    </tr>\n",
       "    <tr>\n",
       "      <td>18</td>\n",
       "      <td>80.584671</td>\n",
       "      <td>93.357849</td>\n",
       "      <td>9.508289</td>\n",
       "      <td>0.150212</td>\n",
       "      <td>6.066472</td>\n",
       "      <td>00:01</td>\n",
       "    </tr>\n",
       "    <tr>\n",
       "      <td>19</td>\n",
       "      <td>82.411507</td>\n",
       "      <td>93.476204</td>\n",
       "      <td>9.514261</td>\n",
       "      <td>0.149350</td>\n",
       "      <td>6.074482</td>\n",
       "      <td>00:01</td>\n",
       "    </tr>\n",
       "  </tbody>\n",
       "</table>"
      ],
      "text/plain": [
       "<IPython.core.display.HTML object>"
      ]
     },
     "metadata": {},
     "output_type": "display_data"
    }
   ],
   "source": [
    "learn.fit_one_cycle(20, 1e-1)"
   ]
  },
  {
   "cell_type": "code",
   "execution_count": 307,
   "metadata": {
    "ExecuteTime": {
     "end_time": "2020-03-20T14:18:15.740635Z",
     "start_time": "2020-03-20T14:17:51.265986Z"
    },
    "scrolled": true
   },
   "outputs": [
    {
     "data": {
      "text/html": [
       "<table border=\"1\" class=\"dataframe\">\n",
       "  <thead>\n",
       "    <tr style=\"text-align: left;\">\n",
       "      <th>epoch</th>\n",
       "      <th>train_loss</th>\n",
       "      <th>valid_loss</th>\n",
       "      <th>root_mean_squared_error</th>\n",
       "      <th>r2_score</th>\n",
       "      <th>mean_absolute_error</th>\n",
       "      <th>time</th>\n",
       "    </tr>\n",
       "  </thead>\n",
       "  <tbody>\n",
       "    <tr>\n",
       "      <td>0</td>\n",
       "      <td>79.116318</td>\n",
       "      <td>94.609795</td>\n",
       "      <td>9.582747</td>\n",
       "      <td>0.129595</td>\n",
       "      <td>6.244694</td>\n",
       "      <td>00:02</td>\n",
       "    </tr>\n",
       "    <tr>\n",
       "      <td>1</td>\n",
       "      <td>79.855583</td>\n",
       "      <td>96.987968</td>\n",
       "      <td>9.701471</td>\n",
       "      <td>0.105671</td>\n",
       "      <td>6.326132</td>\n",
       "      <td>00:01</td>\n",
       "    </tr>\n",
       "    <tr>\n",
       "      <td>2</td>\n",
       "      <td>82.824371</td>\n",
       "      <td>98.998299</td>\n",
       "      <td>9.785389</td>\n",
       "      <td>0.106908</td>\n",
       "      <td>6.436817</td>\n",
       "      <td>00:01</td>\n",
       "    </tr>\n",
       "    <tr>\n",
       "      <td>3</td>\n",
       "      <td>83.641136</td>\n",
       "      <td>96.360611</td>\n",
       "      <td>9.666714</td>\n",
       "      <td>0.106644</td>\n",
       "      <td>6.156500</td>\n",
       "      <td>00:01</td>\n",
       "    </tr>\n",
       "    <tr>\n",
       "      <td>4</td>\n",
       "      <td>92.037338</td>\n",
       "      <td>106.072845</td>\n",
       "      <td>10.176916</td>\n",
       "      <td>0.010470</td>\n",
       "      <td>7.285903</td>\n",
       "      <td>00:01</td>\n",
       "    </tr>\n",
       "    <tr>\n",
       "      <td>5</td>\n",
       "      <td>88.387482</td>\n",
       "      <td>97.457932</td>\n",
       "      <td>9.747354</td>\n",
       "      <td>0.095233</td>\n",
       "      <td>6.590563</td>\n",
       "      <td>00:01</td>\n",
       "    </tr>\n",
       "    <tr>\n",
       "      <td>6</td>\n",
       "      <td>88.232834</td>\n",
       "      <td>94.133522</td>\n",
       "      <td>9.567074</td>\n",
       "      <td>0.134649</td>\n",
       "      <td>6.213158</td>\n",
       "      <td>00:01</td>\n",
       "    </tr>\n",
       "    <tr>\n",
       "      <td>7</td>\n",
       "      <td>85.496307</td>\n",
       "      <td>94.723480</td>\n",
       "      <td>9.578037</td>\n",
       "      <td>0.133455</td>\n",
       "      <td>6.172932</td>\n",
       "      <td>00:01</td>\n",
       "    </tr>\n",
       "    <tr>\n",
       "      <td>8</td>\n",
       "      <td>91.115356</td>\n",
       "      <td>95.405266</td>\n",
       "      <td>9.615521</td>\n",
       "      <td>0.131833</td>\n",
       "      <td>6.290699</td>\n",
       "      <td>00:01</td>\n",
       "    </tr>\n",
       "    <tr>\n",
       "      <td>9</td>\n",
       "      <td>90.837830</td>\n",
       "      <td>96.439575</td>\n",
       "      <td>9.671828</td>\n",
       "      <td>0.116235</td>\n",
       "      <td>6.404942</td>\n",
       "      <td>00:01</td>\n",
       "    </tr>\n",
       "    <tr>\n",
       "      <td>10</td>\n",
       "      <td>86.715324</td>\n",
       "      <td>107.428329</td>\n",
       "      <td>10.190199</td>\n",
       "      <td>0.026504</td>\n",
       "      <td>7.077483</td>\n",
       "      <td>00:01</td>\n",
       "    </tr>\n",
       "    <tr>\n",
       "      <td>11</td>\n",
       "      <td>85.566689</td>\n",
       "      <td>101.475861</td>\n",
       "      <td>9.930637</td>\n",
       "      <td>0.077207</td>\n",
       "      <td>6.825573</td>\n",
       "      <td>00:01</td>\n",
       "    </tr>\n",
       "    <tr>\n",
       "      <td>12</td>\n",
       "      <td>85.110641</td>\n",
       "      <td>107.374313</td>\n",
       "      <td>10.023765</td>\n",
       "      <td>0.001362</td>\n",
       "      <td>6.431392</td>\n",
       "      <td>00:01</td>\n",
       "    </tr>\n",
       "    <tr>\n",
       "      <td>13</td>\n",
       "      <td>83.501396</td>\n",
       "      <td>102.074112</td>\n",
       "      <td>9.938998</td>\n",
       "      <td>0.072711</td>\n",
       "      <td>6.804607</td>\n",
       "      <td>00:01</td>\n",
       "    </tr>\n",
       "    <tr>\n",
       "      <td>14</td>\n",
       "      <td>81.454987</td>\n",
       "      <td>94.853577</td>\n",
       "      <td>9.592554</td>\n",
       "      <td>0.138516</td>\n",
       "      <td>6.237008</td>\n",
       "      <td>00:01</td>\n",
       "    </tr>\n",
       "    <tr>\n",
       "      <td>15</td>\n",
       "      <td>80.280464</td>\n",
       "      <td>94.324356</td>\n",
       "      <td>9.569963</td>\n",
       "      <td>0.133065</td>\n",
       "      <td>6.134153</td>\n",
       "      <td>00:01</td>\n",
       "    </tr>\n",
       "    <tr>\n",
       "      <td>16</td>\n",
       "      <td>80.546967</td>\n",
       "      <td>96.343239</td>\n",
       "      <td>9.665923</td>\n",
       "      <td>0.118489</td>\n",
       "      <td>6.182636</td>\n",
       "      <td>00:01</td>\n",
       "    </tr>\n",
       "    <tr>\n",
       "      <td>17</td>\n",
       "      <td>79.253929</td>\n",
       "      <td>136.375397</td>\n",
       "      <td>10.511099</td>\n",
       "      <td>-0.295144</td>\n",
       "      <td>6.302485</td>\n",
       "      <td>00:01</td>\n",
       "    </tr>\n",
       "    <tr>\n",
       "      <td>18</td>\n",
       "      <td>78.709740</td>\n",
       "      <td>98.681129</td>\n",
       "      <td>9.773424</td>\n",
       "      <td>0.091471</td>\n",
       "      <td>6.172738</td>\n",
       "      <td>00:01</td>\n",
       "    </tr>\n",
       "    <tr>\n",
       "      <td>19</td>\n",
       "      <td>79.381134</td>\n",
       "      <td>272.345001</td>\n",
       "      <td>11.762456</td>\n",
       "      <td>-1.707824</td>\n",
       "      <td>6.486959</td>\n",
       "      <td>00:01</td>\n",
       "    </tr>\n",
       "  </tbody>\n",
       "</table>"
      ],
      "text/plain": [
       "<IPython.core.display.HTML object>"
      ]
     },
     "metadata": {},
     "output_type": "display_data"
    }
   ],
   "source": [
    "learn.unfreeze()\n",
    "learn.fit_one_cycle(20, 1e-1)"
   ]
  },
  {
   "cell_type": "code",
   "execution_count": 308,
   "metadata": {
    "ExecuteTime": {
     "end_time": "2020-03-20T14:18:44.888465Z",
     "start_time": "2020-03-20T14:18:44.879907Z"
    }
   },
   "outputs": [],
   "source": [
    "learn.save('stage-1')"
   ]
  },
  {
   "cell_type": "code",
   "execution_count": 32,
   "metadata": {
    "ExecuteTime": {
     "end_time": "2020-03-20T14:40:24.751720Z",
     "start_time": "2020-03-20T14:40:24.225795Z"
    },
    "scrolled": true
   },
   "outputs": [
    {
     "data": {
      "text/html": [],
      "text/plain": [
       "<IPython.core.display.HTML object>"
      ]
     },
     "metadata": {},
     "output_type": "display_data"
    }
   ],
   "source": [
    "test_predictions = learn.get_preds(ds_type=DatasetType.Test)[0]"
   ]
  },
  {
   "cell_type": "code",
   "execution_count": 33,
   "metadata": {
    "ExecuteTime": {
     "end_time": "2020-03-20T14:40:28.571707Z",
     "start_time": "2020-03-20T14:40:28.565739Z"
    }
   },
   "outputs": [],
   "source": [
    "test_predictions = [i[0] for i in test_predictions.tolist()]"
   ]
  },
  {
   "cell_type": "code",
   "execution_count": 41,
   "metadata": {
    "ExecuteTime": {
     "end_time": "2020-03-20T14:41:45.015648Z",
     "start_time": "2020-03-20T14:41:42.768510Z"
    }
   },
   "outputs": [],
   "source": [
    "test_data_back = pd.read_excel('data/Test_dataset.xlsx')"
   ]
  },
  {
   "cell_type": "code",
   "execution_count": 42,
   "metadata": {
    "ExecuteTime": {
     "end_time": "2020-03-20T14:41:50.405489Z",
     "start_time": "2020-03-20T14:41:50.397865Z"
    }
   },
   "outputs": [],
   "source": [
    "test_data_back['predictions'] = list(np.array(test_predictions))"
   ]
  },
  {
   "cell_type": "code",
   "execution_count": 45,
   "metadata": {
    "ExecuteTime": {
     "end_time": "2020-03-20T14:41:58.108107Z",
     "start_time": "2020-03-20T14:41:58.101618Z"
    }
   },
   "outputs": [
    {
     "data": {
      "text/plain": [
       "78.9201431274414"
      ]
     },
     "execution_count": 45,
     "metadata": {},
     "output_type": "execute_result"
    }
   ],
   "source": [
    "max(test_data['predictions'])"
   ]
  },
  {
   "cell_type": "code",
   "execution_count": 44,
   "metadata": {
    "ExecuteTime": {
     "end_time": "2020-03-20T14:41:57.391659Z",
     "start_time": "2020-03-20T14:41:57.377242Z"
    }
   },
   "outputs": [],
   "source": [
    "test_data_back[test_data_back['predictions']>90] = min(test_data_back['predictions'])"
   ]
  },
  {
   "cell_type": "code",
   "execution_count": 46,
   "metadata": {
    "ExecuteTime": {
     "end_time": "2020-03-20T14:42:00.570373Z",
     "start_time": "2020-03-20T14:42:00.554073Z"
    }
   },
   "outputs": [
    {
     "data": {
      "text/html": [
       "<div>\n",
       "<style scoped>\n",
       "    .dataframe tbody tr th:only-of-type {\n",
       "        vertical-align: middle;\n",
       "    }\n",
       "\n",
       "    .dataframe tbody tr th {\n",
       "        vertical-align: top;\n",
       "    }\n",
       "\n",
       "    .dataframe thead th {\n",
       "        text-align: right;\n",
       "    }\n",
       "</style>\n",
       "<table border=\"1\" class=\"dataframe\">\n",
       "  <thead>\n",
       "    <tr style=\"text-align: right;\">\n",
       "      <th></th>\n",
       "      <th>people_ID</th>\n",
       "      <th>predictions</th>\n",
       "    </tr>\n",
       "  </thead>\n",
       "  <tbody>\n",
       "    <tr>\n",
       "      <th>0</th>\n",
       "      <td>5942.0</td>\n",
       "      <td>49.842205</td>\n",
       "    </tr>\n",
       "    <tr>\n",
       "      <th>1</th>\n",
       "      <td>18664.0</td>\n",
       "      <td>50.993881</td>\n",
       "    </tr>\n",
       "    <tr>\n",
       "      <th>2</th>\n",
       "      <td>5603.0</td>\n",
       "      <td>51.323723</td>\n",
       "    </tr>\n",
       "    <tr>\n",
       "      <th>3</th>\n",
       "      <td>5649.0</td>\n",
       "      <td>58.499203</td>\n",
       "    </tr>\n",
       "    <tr>\n",
       "      <th>4</th>\n",
       "      <td>5099.0</td>\n",
       "      <td>50.803890</td>\n",
       "    </tr>\n",
       "    <tr>\n",
       "      <th>5</th>\n",
       "      <td>18749.0</td>\n",
       "      <td>50.859589</td>\n",
       "    </tr>\n",
       "    <tr>\n",
       "      <th>6</th>\n",
       "      <td>5228.0</td>\n",
       "      <td>52.053444</td>\n",
       "    </tr>\n",
       "    <tr>\n",
       "      <th>7</th>\n",
       "      <td>5559.0</td>\n",
       "      <td>58.705284</td>\n",
       "    </tr>\n",
       "    <tr>\n",
       "      <th>8</th>\n",
       "      <td>5220.0</td>\n",
       "      <td>51.241112</td>\n",
       "    </tr>\n",
       "    <tr>\n",
       "      <th>9</th>\n",
       "      <td>5476.0</td>\n",
       "      <td>50.719879</td>\n",
       "    </tr>\n",
       "    <tr>\n",
       "      <th>10</th>\n",
       "      <td>5260.0</td>\n",
       "      <td>51.657555</td>\n",
       "    </tr>\n",
       "    <tr>\n",
       "      <th>11</th>\n",
       "      <td>17638.0</td>\n",
       "      <td>50.816288</td>\n",
       "    </tr>\n",
       "    <tr>\n",
       "      <th>12</th>\n",
       "      <td>18635.0</td>\n",
       "      <td>54.196861</td>\n",
       "    </tr>\n",
       "    <tr>\n",
       "      <th>13</th>\n",
       "      <td>18794.0</td>\n",
       "      <td>54.220276</td>\n",
       "    </tr>\n",
       "    <tr>\n",
       "      <th>14</th>\n",
       "      <td>5263.0</td>\n",
       "      <td>51.420979</td>\n",
       "    </tr>\n",
       "    <tr>\n",
       "      <th>15</th>\n",
       "      <td>17680.0</td>\n",
       "      <td>58.370106</td>\n",
       "    </tr>\n",
       "    <tr>\n",
       "      <th>16</th>\n",
       "      <td>18030.0</td>\n",
       "      <td>51.047035</td>\n",
       "    </tr>\n",
       "    <tr>\n",
       "      <th>17</th>\n",
       "      <td>18090.0</td>\n",
       "      <td>52.036385</td>\n",
       "    </tr>\n",
       "    <tr>\n",
       "      <th>18</th>\n",
       "      <td>18455.0</td>\n",
       "      <td>51.176975</td>\n",
       "    </tr>\n",
       "    <tr>\n",
       "      <th>19</th>\n",
       "      <td>18155.0</td>\n",
       "      <td>51.423035</td>\n",
       "    </tr>\n",
       "    <tr>\n",
       "      <th>20</th>\n",
       "      <td>18116.0</td>\n",
       "      <td>55.812508</td>\n",
       "    </tr>\n",
       "    <tr>\n",
       "      <th>21</th>\n",
       "      <td>18144.0</td>\n",
       "      <td>52.165104</td>\n",
       "    </tr>\n",
       "    <tr>\n",
       "      <th>22</th>\n",
       "      <td>5218.0</td>\n",
       "      <td>57.615555</td>\n",
       "    </tr>\n",
       "    <tr>\n",
       "      <th>23</th>\n",
       "      <td>5386.0</td>\n",
       "      <td>51.572556</td>\n",
       "    </tr>\n",
       "    <tr>\n",
       "      <th>24</th>\n",
       "      <td>18105.0</td>\n",
       "      <td>57.437702</td>\n",
       "    </tr>\n",
       "    <tr>\n",
       "      <th>25</th>\n",
       "      <td>5735.0</td>\n",
       "      <td>55.255653</td>\n",
       "    </tr>\n",
       "    <tr>\n",
       "      <th>26</th>\n",
       "      <td>5900.0</td>\n",
       "      <td>50.695168</td>\n",
       "    </tr>\n",
       "    <tr>\n",
       "      <th>27</th>\n",
       "      <td>18391.0</td>\n",
       "      <td>50.768394</td>\n",
       "    </tr>\n",
       "    <tr>\n",
       "      <th>28</th>\n",
       "      <td>5786.0</td>\n",
       "      <td>50.852112</td>\n",
       "    </tr>\n",
       "    <tr>\n",
       "      <th>29</th>\n",
       "      <td>18639.0</td>\n",
       "      <td>51.765594</td>\n",
       "    </tr>\n",
       "    <tr>\n",
       "      <th>30</th>\n",
       "      <td>17984.0</td>\n",
       "      <td>52.932377</td>\n",
       "    </tr>\n",
       "    <tr>\n",
       "      <th>31</th>\n",
       "      <td>18274.0</td>\n",
       "      <td>52.720955</td>\n",
       "    </tr>\n",
       "    <tr>\n",
       "      <th>32</th>\n",
       "      <td>5425.0</td>\n",
       "      <td>53.628288</td>\n",
       "    </tr>\n",
       "    <tr>\n",
       "      <th>33</th>\n",
       "      <td>6076.0</td>\n",
       "      <td>54.564545</td>\n",
       "    </tr>\n",
       "    <tr>\n",
       "      <th>34</th>\n",
       "      <td>18545.0</td>\n",
       "      <td>50.354023</td>\n",
       "    </tr>\n",
       "    <tr>\n",
       "      <th>35</th>\n",
       "      <td>17697.0</td>\n",
       "      <td>57.378433</td>\n",
       "    </tr>\n",
       "    <tr>\n",
       "      <th>36</th>\n",
       "      <td>6137.0</td>\n",
       "      <td>50.604530</td>\n",
       "    </tr>\n",
       "    <tr>\n",
       "      <th>37</th>\n",
       "      <td>6083.0</td>\n",
       "      <td>51.520416</td>\n",
       "    </tr>\n",
       "    <tr>\n",
       "      <th>38</th>\n",
       "      <td>17730.0</td>\n",
       "      <td>53.456074</td>\n",
       "    </tr>\n",
       "    <tr>\n",
       "      <th>39</th>\n",
       "      <td>5896.0</td>\n",
       "      <td>53.881214</td>\n",
       "    </tr>\n",
       "    <tr>\n",
       "      <th>40</th>\n",
       "      <td>18906.0</td>\n",
       "      <td>51.618687</td>\n",
       "    </tr>\n",
       "    <tr>\n",
       "      <th>41</th>\n",
       "      <td>17808.0</td>\n",
       "      <td>52.921608</td>\n",
       "    </tr>\n",
       "    <tr>\n",
       "      <th>42</th>\n",
       "      <td>6078.0</td>\n",
       "      <td>51.090561</td>\n",
       "    </tr>\n",
       "    <tr>\n",
       "      <th>43</th>\n",
       "      <td>5516.0</td>\n",
       "      <td>51.072014</td>\n",
       "    </tr>\n",
       "    <tr>\n",
       "      <th>44</th>\n",
       "      <td>18093.0</td>\n",
       "      <td>53.400986</td>\n",
       "    </tr>\n",
       "    <tr>\n",
       "      <th>45</th>\n",
       "      <td>6120.0</td>\n",
       "      <td>51.241280</td>\n",
       "    </tr>\n",
       "    <tr>\n",
       "      <th>46</th>\n",
       "      <td>18154.0</td>\n",
       "      <td>50.089848</td>\n",
       "    </tr>\n",
       "    <tr>\n",
       "      <th>47</th>\n",
       "      <td>17935.0</td>\n",
       "      <td>50.323521</td>\n",
       "    </tr>\n",
       "    <tr>\n",
       "      <th>48</th>\n",
       "      <td>18769.0</td>\n",
       "      <td>64.505051</td>\n",
       "    </tr>\n",
       "    <tr>\n",
       "      <th>49</th>\n",
       "      <td>18264.0</td>\n",
       "      <td>51.723148</td>\n",
       "    </tr>\n",
       "    <tr>\n",
       "      <th>50</th>\n",
       "      <td>18076.0</td>\n",
       "      <td>50.268997</td>\n",
       "    </tr>\n",
       "    <tr>\n",
       "      <th>51</th>\n",
       "      <td>18035.0</td>\n",
       "      <td>51.576424</td>\n",
       "    </tr>\n",
       "    <tr>\n",
       "      <th>52</th>\n",
       "      <td>18051.0</td>\n",
       "      <td>50.968399</td>\n",
       "    </tr>\n",
       "    <tr>\n",
       "      <th>53</th>\n",
       "      <td>18676.0</td>\n",
       "      <td>50.855156</td>\n",
       "    </tr>\n",
       "    <tr>\n",
       "      <th>54</th>\n",
       "      <td>5332.0</td>\n",
       "      <td>51.431503</td>\n",
       "    </tr>\n",
       "    <tr>\n",
       "      <th>55</th>\n",
       "      <td>5898.0</td>\n",
       "      <td>59.775917</td>\n",
       "    </tr>\n",
       "    <tr>\n",
       "      <th>56</th>\n",
       "      <td>18370.0</td>\n",
       "      <td>51.590485</td>\n",
       "    </tr>\n",
       "    <tr>\n",
       "      <th>57</th>\n",
       "      <td>17706.0</td>\n",
       "      <td>51.278156</td>\n",
       "    </tr>\n",
       "    <tr>\n",
       "      <th>58</th>\n",
       "      <td>5198.0</td>\n",
       "      <td>50.771820</td>\n",
       "    </tr>\n",
       "    <tr>\n",
       "      <th>59</th>\n",
       "      <td>18360.0</td>\n",
       "      <td>49.888229</td>\n",
       "    </tr>\n",
       "    <tr>\n",
       "      <th>60</th>\n",
       "      <td>18240.0</td>\n",
       "      <td>50.703880</td>\n",
       "    </tr>\n",
       "    <tr>\n",
       "      <th>61</th>\n",
       "      <td>18691.0</td>\n",
       "      <td>58.597878</td>\n",
       "    </tr>\n",
       "    <tr>\n",
       "      <th>62</th>\n",
       "      <td>5768.0</td>\n",
       "      <td>50.563896</td>\n",
       "    </tr>\n",
       "    <tr>\n",
       "      <th>63</th>\n",
       "      <td>18315.0</td>\n",
       "      <td>51.072800</td>\n",
       "    </tr>\n",
       "    <tr>\n",
       "      <th>64</th>\n",
       "      <td>18776.0</td>\n",
       "      <td>50.238930</td>\n",
       "    </tr>\n",
       "    <tr>\n",
       "      <th>65</th>\n",
       "      <td>6225.0</td>\n",
       "      <td>52.261078</td>\n",
       "    </tr>\n",
       "    <tr>\n",
       "      <th>66</th>\n",
       "      <td>17983.0</td>\n",
       "      <td>63.362473</td>\n",
       "    </tr>\n",
       "    <tr>\n",
       "      <th>67</th>\n",
       "      <td>17973.0</td>\n",
       "      <td>51.494789</td>\n",
       "    </tr>\n",
       "    <tr>\n",
       "      <th>68</th>\n",
       "      <td>5805.0</td>\n",
       "      <td>54.061749</td>\n",
       "    </tr>\n",
       "    <tr>\n",
       "      <th>69</th>\n",
       "      <td>5500.0</td>\n",
       "      <td>50.887844</td>\n",
       "    </tr>\n",
       "    <tr>\n",
       "      <th>70</th>\n",
       "      <td>5305.0</td>\n",
       "      <td>51.383842</td>\n",
       "    </tr>\n",
       "    <tr>\n",
       "      <th>71</th>\n",
       "      <td>18243.0</td>\n",
       "      <td>51.672138</td>\n",
       "    </tr>\n",
       "    <tr>\n",
       "      <th>72</th>\n",
       "      <td>5169.0</td>\n",
       "      <td>51.583900</td>\n",
       "    </tr>\n",
       "    <tr>\n",
       "      <th>73</th>\n",
       "      <td>5258.0</td>\n",
       "      <td>49.423790</td>\n",
       "    </tr>\n",
       "    <tr>\n",
       "      <th>74</th>\n",
       "      <td>17810.0</td>\n",
       "      <td>57.457588</td>\n",
       "    </tr>\n",
       "    <tr>\n",
       "      <th>75</th>\n",
       "      <td>5714.0</td>\n",
       "      <td>50.492794</td>\n",
       "    </tr>\n",
       "    <tr>\n",
       "      <th>76</th>\n",
       "      <td>6070.0</td>\n",
       "      <td>50.066078</td>\n",
       "    </tr>\n",
       "    <tr>\n",
       "      <th>77</th>\n",
       "      <td>5959.0</td>\n",
       "      <td>56.112976</td>\n",
       "    </tr>\n",
       "    <tr>\n",
       "      <th>78</th>\n",
       "      <td>18771.0</td>\n",
       "      <td>50.958092</td>\n",
       "    </tr>\n",
       "    <tr>\n",
       "      <th>79</th>\n",
       "      <td>17765.0</td>\n",
       "      <td>51.861965</td>\n",
       "    </tr>\n",
       "    <tr>\n",
       "      <th>80</th>\n",
       "      <td>18822.0</td>\n",
       "      <td>50.431396</td>\n",
       "    </tr>\n",
       "    <tr>\n",
       "      <th>81</th>\n",
       "      <td>17735.0</td>\n",
       "      <td>60.377445</td>\n",
       "    </tr>\n",
       "    <tr>\n",
       "      <th>82</th>\n",
       "      <td>17966.0</td>\n",
       "      <td>49.945084</td>\n",
       "    </tr>\n",
       "    <tr>\n",
       "      <th>83</th>\n",
       "      <td>18861.0</td>\n",
       "      <td>48.712788</td>\n",
       "    </tr>\n",
       "    <tr>\n",
       "      <th>84</th>\n",
       "      <td>18236.0</td>\n",
       "      <td>51.046108</td>\n",
       "    </tr>\n",
       "    <tr>\n",
       "      <th>85</th>\n",
       "      <td>18750.0</td>\n",
       "      <td>59.526890</td>\n",
       "    </tr>\n",
       "    <tr>\n",
       "      <th>86</th>\n",
       "      <td>17809.0</td>\n",
       "      <td>56.341278</td>\n",
       "    </tr>\n",
       "    <tr>\n",
       "      <th>87</th>\n",
       "      <td>6049.0</td>\n",
       "      <td>51.494579</td>\n",
       "    </tr>\n",
       "    <tr>\n",
       "      <th>88</th>\n",
       "      <td>18465.0</td>\n",
       "      <td>52.204037</td>\n",
       "    </tr>\n",
       "    <tr>\n",
       "      <th>89</th>\n",
       "      <td>6201.0</td>\n",
       "      <td>50.997505</td>\n",
       "    </tr>\n",
       "    <tr>\n",
       "      <th>90</th>\n",
       "      <td>18877.0</td>\n",
       "      <td>49.573116</td>\n",
       "    </tr>\n",
       "    <tr>\n",
       "      <th>91</th>\n",
       "      <td>5087.0</td>\n",
       "      <td>52.140675</td>\n",
       "    </tr>\n",
       "    <tr>\n",
       "      <th>92</th>\n",
       "      <td>17742.0</td>\n",
       "      <td>51.101639</td>\n",
       "    </tr>\n",
       "    <tr>\n",
       "      <th>93</th>\n",
       "      <td>17941.0</td>\n",
       "      <td>59.235115</td>\n",
       "    </tr>\n",
       "    <tr>\n",
       "      <th>94</th>\n",
       "      <td>18421.0</td>\n",
       "      <td>51.423035</td>\n",
       "    </tr>\n",
       "    <tr>\n",
       "      <th>95</th>\n",
       "      <td>18489.0</td>\n",
       "      <td>51.870758</td>\n",
       "    </tr>\n",
       "    <tr>\n",
       "      <th>96</th>\n",
       "      <td>6299.0</td>\n",
       "      <td>63.569054</td>\n",
       "    </tr>\n",
       "    <tr>\n",
       "      <th>97</th>\n",
       "      <td>18428.0</td>\n",
       "      <td>54.443623</td>\n",
       "    </tr>\n",
       "    <tr>\n",
       "      <th>98</th>\n",
       "      <td>5563.0</td>\n",
       "      <td>61.698830</td>\n",
       "    </tr>\n",
       "    <tr>\n",
       "      <th>99</th>\n",
       "      <td>18796.0</td>\n",
       "      <td>52.241074</td>\n",
       "    </tr>\n",
       "  </tbody>\n",
       "</table>\n",
       "</div>"
      ],
      "text/plain": [
       "    people_ID  predictions\n",
       "0      5942.0    49.842205\n",
       "1     18664.0    50.993881\n",
       "2      5603.0    51.323723\n",
       "3      5649.0    58.499203\n",
       "4      5099.0    50.803890\n",
       "5     18749.0    50.859589\n",
       "6      5228.0    52.053444\n",
       "7      5559.0    58.705284\n",
       "8      5220.0    51.241112\n",
       "9      5476.0    50.719879\n",
       "10     5260.0    51.657555\n",
       "11    17638.0    50.816288\n",
       "12    18635.0    54.196861\n",
       "13    18794.0    54.220276\n",
       "14     5263.0    51.420979\n",
       "15    17680.0    58.370106\n",
       "16    18030.0    51.047035\n",
       "17    18090.0    52.036385\n",
       "18    18455.0    51.176975\n",
       "19    18155.0    51.423035\n",
       "20    18116.0    55.812508\n",
       "21    18144.0    52.165104\n",
       "22     5218.0    57.615555\n",
       "23     5386.0    51.572556\n",
       "24    18105.0    57.437702\n",
       "25     5735.0    55.255653\n",
       "26     5900.0    50.695168\n",
       "27    18391.0    50.768394\n",
       "28     5786.0    50.852112\n",
       "29    18639.0    51.765594\n",
       "30    17984.0    52.932377\n",
       "31    18274.0    52.720955\n",
       "32     5425.0    53.628288\n",
       "33     6076.0    54.564545\n",
       "34    18545.0    50.354023\n",
       "35    17697.0    57.378433\n",
       "36     6137.0    50.604530\n",
       "37     6083.0    51.520416\n",
       "38    17730.0    53.456074\n",
       "39     5896.0    53.881214\n",
       "40    18906.0    51.618687\n",
       "41    17808.0    52.921608\n",
       "42     6078.0    51.090561\n",
       "43     5516.0    51.072014\n",
       "44    18093.0    53.400986\n",
       "45     6120.0    51.241280\n",
       "46    18154.0    50.089848\n",
       "47    17935.0    50.323521\n",
       "48    18769.0    64.505051\n",
       "49    18264.0    51.723148\n",
       "50    18076.0    50.268997\n",
       "51    18035.0    51.576424\n",
       "52    18051.0    50.968399\n",
       "53    18676.0    50.855156\n",
       "54     5332.0    51.431503\n",
       "55     5898.0    59.775917\n",
       "56    18370.0    51.590485\n",
       "57    17706.0    51.278156\n",
       "58     5198.0    50.771820\n",
       "59    18360.0    49.888229\n",
       "60    18240.0    50.703880\n",
       "61    18691.0    58.597878\n",
       "62     5768.0    50.563896\n",
       "63    18315.0    51.072800\n",
       "64    18776.0    50.238930\n",
       "65     6225.0    52.261078\n",
       "66    17983.0    63.362473\n",
       "67    17973.0    51.494789\n",
       "68     5805.0    54.061749\n",
       "69     5500.0    50.887844\n",
       "70     5305.0    51.383842\n",
       "71    18243.0    51.672138\n",
       "72     5169.0    51.583900\n",
       "73     5258.0    49.423790\n",
       "74    17810.0    57.457588\n",
       "75     5714.0    50.492794\n",
       "76     6070.0    50.066078\n",
       "77     5959.0    56.112976\n",
       "78    18771.0    50.958092\n",
       "79    17765.0    51.861965\n",
       "80    18822.0    50.431396\n",
       "81    17735.0    60.377445\n",
       "82    17966.0    49.945084\n",
       "83    18861.0    48.712788\n",
       "84    18236.0    51.046108\n",
       "85    18750.0    59.526890\n",
       "86    17809.0    56.341278\n",
       "87     6049.0    51.494579\n",
       "88    18465.0    52.204037\n",
       "89     6201.0    50.997505\n",
       "90    18877.0    49.573116\n",
       "91     5087.0    52.140675\n",
       "92    17742.0    51.101639\n",
       "93    17941.0    59.235115\n",
       "94    18421.0    51.423035\n",
       "95    18489.0    51.870758\n",
       "96     6299.0    63.569054\n",
       "97    18428.0    54.443623\n",
       "98     5563.0    61.698830\n",
       "99    18796.0    52.241074"
      ]
     },
     "execution_count": 46,
     "metadata": {},
     "output_type": "execute_result"
    }
   ],
   "source": [
    "test_data_back[['people_ID','predictions']].head(100)"
   ]
  },
  {
   "cell_type": "code",
   "execution_count": 48,
   "metadata": {
    "ExecuteTime": {
     "end_time": "2020-03-20T14:42:18.605469Z",
     "start_time": "2020-03-20T14:42:18.537966Z"
    }
   },
   "outputs": [],
   "source": [
    "test_data_back[['people_ID','predictions']].to_csv('sub_p1.csv')"
   ]
  },
  {
   "cell_type": "markdown",
   "metadata": {},
   "source": [
    "# RNN"
   ]
  },
  {
   "cell_type": "code",
   "execution_count": 3,
   "metadata": {
    "ExecuteTime": {
     "end_time": "2020-03-20T15:23:26.777376Z",
     "start_time": "2020-03-20T15:23:25.882410Z"
    }
   },
   "outputs": [],
   "source": [
    "data_tm = pd.read_excel('data/times.xlsx')"
   ]
  },
  {
   "cell_type": "code",
   "execution_count": 5,
   "metadata": {
    "ExecuteTime": {
     "end_time": "2020-03-20T15:23:32.767295Z",
     "start_time": "2020-03-20T15:23:32.745155Z"
    }
   },
   "outputs": [
    {
     "data": {
      "text/html": [
       "<div>\n",
       "<style scoped>\n",
       "    .dataframe tbody tr th:only-of-type {\n",
       "        vertical-align: middle;\n",
       "    }\n",
       "\n",
       "    .dataframe tbody tr th {\n",
       "        vertical-align: top;\n",
       "    }\n",
       "\n",
       "    .dataframe thead th {\n",
       "        text-align: right;\n",
       "    }\n",
       "</style>\n",
       "<table border=\"1\" class=\"dataframe\">\n",
       "  <thead>\n",
       "    <tr style=\"text-align: right;\">\n",
       "      <th></th>\n",
       "      <th>people_ID</th>\n",
       "      <th>2020-03-20 00:00:00</th>\n",
       "      <th>2020-03-21 00:00:00</th>\n",
       "      <th>2020-03-22 00:00:00</th>\n",
       "      <th>2020-03-23 00:00:00</th>\n",
       "      <th>2020-03-24 00:00:00</th>\n",
       "      <th>2020-03-25 00:00:00</th>\n",
       "      <th>2020-03-26 00:00:00</th>\n",
       "    </tr>\n",
       "  </thead>\n",
       "  <tbody>\n",
       "    <tr>\n",
       "      <th>0</th>\n",
       "      <td>1</td>\n",
       "      <td>441</td>\n",
       "      <td>544.2</td>\n",
       "      <td>669.64</td>\n",
       "      <td>821.368</td>\n",
       "      <td>1002.2416</td>\n",
       "      <td>1215.68992</td>\n",
       "      <td>1472.627904</td>\n",
       "    </tr>\n",
       "    <tr>\n",
       "      <th>1</th>\n",
       "      <td>2</td>\n",
       "      <td>151</td>\n",
       "      <td>197.2</td>\n",
       "      <td>253.24</td>\n",
       "      <td>321.688</td>\n",
       "      <td>399.9256</td>\n",
       "      <td>492.91072</td>\n",
       "      <td>606.892864</td>\n",
       "    </tr>\n",
       "    <tr>\n",
       "      <th>2</th>\n",
       "      <td>3</td>\n",
       "      <td>416</td>\n",
       "      <td>515.2</td>\n",
       "      <td>632.44</td>\n",
       "      <td>776.728</td>\n",
       "      <td>947.7736</td>\n",
       "      <td>1150.32832</td>\n",
       "      <td>1395.793984</td>\n",
       "    </tr>\n",
       "    <tr>\n",
       "      <th>3</th>\n",
       "      <td>4</td>\n",
       "      <td>410</td>\n",
       "      <td>506.0</td>\n",
       "      <td>621.40</td>\n",
       "      <td>761.880</td>\n",
       "      <td>928.1560</td>\n",
       "      <td>1126.78720</td>\n",
       "      <td>1368.344640</td>\n",
       "    </tr>\n",
       "    <tr>\n",
       "      <th>4</th>\n",
       "      <td>5</td>\n",
       "      <td>390</td>\n",
       "      <td>483.0</td>\n",
       "      <td>595.00</td>\n",
       "      <td>730.200</td>\n",
       "      <td>892.8400</td>\n",
       "      <td>1084.40800</td>\n",
       "      <td>1315.889600</td>\n",
       "    </tr>\n",
       "  </tbody>\n",
       "</table>\n",
       "</div>"
      ],
      "text/plain": [
       "   people_ID  2020-03-20 00:00:00  2020-03-21 00:00:00  2020-03-22 00:00:00  \\\n",
       "0          1                  441                544.2               669.64   \n",
       "1          2                  151                197.2               253.24   \n",
       "2          3                  416                515.2               632.44   \n",
       "3          4                  410                506.0               621.40   \n",
       "4          5                  390                483.0               595.00   \n",
       "\n",
       "   2020-03-23 00:00:00  2020-03-24 00:00:00  2020-03-25 00:00:00  \\\n",
       "0              821.368            1002.2416           1215.68992   \n",
       "1              321.688             399.9256            492.91072   \n",
       "2              776.728             947.7736           1150.32832   \n",
       "3              761.880             928.1560           1126.78720   \n",
       "4              730.200             892.8400           1084.40800   \n",
       "\n",
       "   2020-03-26 00:00:00  \n",
       "0          1472.627904  \n",
       "1           606.892864  \n",
       "2          1395.793984  \n",
       "3          1368.344640  \n",
       "4          1315.889600  "
      ]
     },
     "execution_count": 5,
     "metadata": {},
     "output_type": "execute_result"
    }
   ],
   "source": [
    "data_tm.head()"
   ]
  },
  {
   "cell_type": "code",
   "execution_count": 24,
   "metadata": {
    "ExecuteTime": {
     "end_time": "2020-03-20T15:34:58.775510Z",
     "start_time": "2020-03-20T15:34:58.769663Z"
    }
   },
   "outputs": [],
   "source": [
    "from sklearn.preprocessing import MinMaxScaler\n",
    "from torch.autograd import Variable"
   ]
  },
  {
   "cell_type": "code",
   "execution_count": 25,
   "metadata": {
    "ExecuteTime": {
     "end_time": "2020-03-20T15:34:59.570751Z",
     "start_time": "2020-03-20T15:34:59.524757Z"
    }
   },
   "outputs": [],
   "source": [
    "def sliding_windows(data, seq_length):\n",
    "    x = []\n",
    "    y = []\n",
    "\n",
    "    for i in range(len(data)-seq_length-1):\n",
    "        _x = data[i:(i+seq_length)]\n",
    "        _y = data[i+seq_length]\n",
    "        x.append(_x)\n",
    "        y.append(_y)\n",
    "\n",
    "    return np.array(x),np.array(y)\n",
    "\n",
    "sc = MinMaxScaler()\n",
    "training_data = sc.fit_transform(data_tm)\n",
    "\n",
    "seq_length = 4\n",
    "x, y = sliding_windows(training_data, seq_length)\n",
    "\n",
    "train_size = int(len(y) * 0.67)\n",
    "test_size = len(y) - train_size\n",
    "\n",
    "dataX = Variable(torch.Tensor(np.array(x)))\n",
    "dataY = Variable(torch.Tensor(np.array(y)))\n",
    "\n",
    "trainX = Variable(torch.Tensor(np.array(x[0:train_size])))\n",
    "trainY = Variable(torch.Tensor(np.array(y[0:train_size])))\n",
    "\n",
    "testX = Variable(torch.Tensor(np.array(x[train_size:len(x)])))\n",
    "testY = Variable(torch.Tensor(np.array(y[train_size:len(y)])))\n"
   ]
  },
  {
   "cell_type": "code",
   "execution_count": 19,
   "metadata": {
    "ExecuteTime": {
     "end_time": "2020-03-20T15:33:06.834003Z",
     "start_time": "2020-03-20T15:33:06.826951Z"
    }
   },
   "outputs": [],
   "source": [
    "class LSTM(nn.Module):\n",
    " \n",
    "    def __init__(self, input_dim, hidden_dim, batch_size, output_dim=1,\n",
    "                    num_layers=2):\n",
    "        super(LSTM, self).__init__()\n",
    "        self.input_dim = input_dim\n",
    "        self.hidden_dim = hidden_dim\n",
    "        self.batch_size = batch_size\n",
    "        self.num_layers = num_layers\n",
    " \n",
    "        # Define the LSTM layer\n",
    "        self.lstm = nn.LSTM(self.input_dim, self.hidden_dim, self.num_layers)\n",
    " \n",
    "        # Define the output layer\n",
    "        self.linear = nn.Linear(self.hidden_dim, output_dim)\n",
    " \n",
    "    def init_hidden(self):\n",
    "        # This is what we'll initialise our hidden state as\n",
    "        return (torch.zeros(self.num_layers, self.batch_size, self.hidden_dim),\n",
    "                torch.zeros(self.num_layers, self.batch_size, self.hidden_dim))\n",
    " \n",
    "    def forward(self, input):\n",
    "        # Forward pass through LSTM layer\n",
    "        # shape of lstm_out: [input_size, batch_size, hidden_dim]\n",
    "        # shape of self.hidden: (a, b), where a and b both \n",
    "        # have shape (num_layers, batch_size, hidden_dim).\n",
    "        lstm_out, self.hidden = self.lstm(input.view(len(input), self.batch_size, -1))\n",
    "        \n",
    "        # Only take the output from the final timetep\n",
    "        # Can pass on the entirety of lstm_out to the next layer if it is a seq2seq prediction\n",
    "        y_pred = self.linear(lstm_out[-1].view(self.batch_size, -1))\n",
    "        return y_pred.view(-1)\n",
    " "
   ]
  },
  {
   "cell_type": "code",
   "execution_count": 28,
   "metadata": {
    "ExecuteTime": {
     "end_time": "2020-03-20T15:35:26.977017Z",
     "start_time": "2020-03-20T15:35:26.233138Z"
    },
    "scrolled": true
   },
   "outputs": [
    {
     "name": "stderr",
     "output_type": "stream",
     "text": [
      "/home/subhaditya/anaconda3/lib/python3.7/site-packages/torch/nn/modules/loss.py:431: UserWarning: Using a target size (torch.Size([7175, 8])) that is different to the input size (torch.Size([2])). This will likely lead to incorrect results due to broadcasting. Please ensure they have the same size.\n",
      "  return F.mse_loss(input, target, reduction=self.reduction)\n"
     ]
    },
    {
     "ename": "RuntimeError",
     "evalue": "The size of tensor a (2) must match the size of tensor b (8) at non-singleton dimension 1",
     "output_type": "error",
     "traceback": [
      "\u001b[0;31m---------------------------------------------------------------------------\u001b[0m",
      "\u001b[0;31mRuntimeError\u001b[0m                              Traceback (most recent call last)",
      "\u001b[0;32m<ipython-input-28-1d314ef33cd0>\u001b[0m in \u001b[0;36m<module>\u001b[0;34m\u001b[0m\n\u001b[1;32m     20\u001b[0m \u001b[0;34m\u001b[0m\u001b[0m\n\u001b[1;32m     21\u001b[0m     \u001b[0;31m# obtain the loss function\u001b[0m\u001b[0;34m\u001b[0m\u001b[0;34m\u001b[0m\u001b[0;34m\u001b[0m\u001b[0m\n\u001b[0;32m---> 22\u001b[0;31m     \u001b[0mloss\u001b[0m \u001b[0;34m=\u001b[0m \u001b[0mcriterion\u001b[0m\u001b[0;34m(\u001b[0m\u001b[0moutputs\u001b[0m\u001b[0;34m,\u001b[0m \u001b[0mtrainY\u001b[0m\u001b[0;34m)\u001b[0m\u001b[0;34m\u001b[0m\u001b[0;34m\u001b[0m\u001b[0m\n\u001b[0m\u001b[1;32m     23\u001b[0m \u001b[0;34m\u001b[0m\u001b[0m\n\u001b[1;32m     24\u001b[0m     \u001b[0mloss\u001b[0m\u001b[0;34m.\u001b[0m\u001b[0mbackward\u001b[0m\u001b[0;34m(\u001b[0m\u001b[0;34m)\u001b[0m\u001b[0;34m\u001b[0m\u001b[0;34m\u001b[0m\u001b[0m\n",
      "\u001b[0;32m~/anaconda3/lib/python3.7/site-packages/torch/nn/modules/module.py\u001b[0m in \u001b[0;36m__call__\u001b[0;34m(self, *input, **kwargs)\u001b[0m\n\u001b[1;32m    539\u001b[0m             \u001b[0mresult\u001b[0m \u001b[0;34m=\u001b[0m \u001b[0mself\u001b[0m\u001b[0;34m.\u001b[0m\u001b[0m_slow_forward\u001b[0m\u001b[0;34m(\u001b[0m\u001b[0;34m*\u001b[0m\u001b[0minput\u001b[0m\u001b[0;34m,\u001b[0m \u001b[0;34m**\u001b[0m\u001b[0mkwargs\u001b[0m\u001b[0;34m)\u001b[0m\u001b[0;34m\u001b[0m\u001b[0;34m\u001b[0m\u001b[0m\n\u001b[1;32m    540\u001b[0m         \u001b[0;32melse\u001b[0m\u001b[0;34m:\u001b[0m\u001b[0;34m\u001b[0m\u001b[0;34m\u001b[0m\u001b[0m\n\u001b[0;32m--> 541\u001b[0;31m             \u001b[0mresult\u001b[0m \u001b[0;34m=\u001b[0m \u001b[0mself\u001b[0m\u001b[0;34m.\u001b[0m\u001b[0mforward\u001b[0m\u001b[0;34m(\u001b[0m\u001b[0;34m*\u001b[0m\u001b[0minput\u001b[0m\u001b[0;34m,\u001b[0m \u001b[0;34m**\u001b[0m\u001b[0mkwargs\u001b[0m\u001b[0;34m)\u001b[0m\u001b[0;34m\u001b[0m\u001b[0;34m\u001b[0m\u001b[0m\n\u001b[0m\u001b[1;32m    542\u001b[0m         \u001b[0;32mfor\u001b[0m \u001b[0mhook\u001b[0m \u001b[0;32min\u001b[0m \u001b[0mself\u001b[0m\u001b[0;34m.\u001b[0m\u001b[0m_forward_hooks\u001b[0m\u001b[0;34m.\u001b[0m\u001b[0mvalues\u001b[0m\u001b[0;34m(\u001b[0m\u001b[0;34m)\u001b[0m\u001b[0;34m:\u001b[0m\u001b[0;34m\u001b[0m\u001b[0;34m\u001b[0m\u001b[0m\n\u001b[1;32m    543\u001b[0m             \u001b[0mhook_result\u001b[0m \u001b[0;34m=\u001b[0m \u001b[0mhook\u001b[0m\u001b[0;34m(\u001b[0m\u001b[0mself\u001b[0m\u001b[0;34m,\u001b[0m \u001b[0minput\u001b[0m\u001b[0;34m,\u001b[0m \u001b[0mresult\u001b[0m\u001b[0;34m)\u001b[0m\u001b[0;34m\u001b[0m\u001b[0;34m\u001b[0m\u001b[0m\n",
      "\u001b[0;32m~/anaconda3/lib/python3.7/site-packages/torch/nn/modules/loss.py\u001b[0m in \u001b[0;36mforward\u001b[0;34m(self, input, target)\u001b[0m\n\u001b[1;32m    429\u001b[0m \u001b[0;34m\u001b[0m\u001b[0m\n\u001b[1;32m    430\u001b[0m     \u001b[0;32mdef\u001b[0m \u001b[0mforward\u001b[0m\u001b[0;34m(\u001b[0m\u001b[0mself\u001b[0m\u001b[0;34m,\u001b[0m \u001b[0minput\u001b[0m\u001b[0;34m,\u001b[0m \u001b[0mtarget\u001b[0m\u001b[0;34m)\u001b[0m\u001b[0;34m:\u001b[0m\u001b[0;34m\u001b[0m\u001b[0;34m\u001b[0m\u001b[0m\n\u001b[0;32m--> 431\u001b[0;31m         \u001b[0;32mreturn\u001b[0m \u001b[0mF\u001b[0m\u001b[0;34m.\u001b[0m\u001b[0mmse_loss\u001b[0m\u001b[0;34m(\u001b[0m\u001b[0minput\u001b[0m\u001b[0;34m,\u001b[0m \u001b[0mtarget\u001b[0m\u001b[0;34m,\u001b[0m \u001b[0mreduction\u001b[0m\u001b[0;34m=\u001b[0m\u001b[0mself\u001b[0m\u001b[0;34m.\u001b[0m\u001b[0mreduction\u001b[0m\u001b[0;34m)\u001b[0m\u001b[0;34m\u001b[0m\u001b[0;34m\u001b[0m\u001b[0m\n\u001b[0m\u001b[1;32m    432\u001b[0m \u001b[0;34m\u001b[0m\u001b[0m\n\u001b[1;32m    433\u001b[0m \u001b[0;34m\u001b[0m\u001b[0m\n",
      "\u001b[0;32m~/anaconda3/lib/python3.7/site-packages/torch/nn/functional.py\u001b[0m in \u001b[0;36mmse_loss\u001b[0;34m(input, target, size_average, reduce, reduction)\u001b[0m\n\u001b[1;32m   2201\u001b[0m             \u001b[0mret\u001b[0m \u001b[0;34m=\u001b[0m \u001b[0mtorch\u001b[0m\u001b[0;34m.\u001b[0m\u001b[0mmean\u001b[0m\u001b[0;34m(\u001b[0m\u001b[0mret\u001b[0m\u001b[0;34m)\u001b[0m \u001b[0;32mif\u001b[0m \u001b[0mreduction\u001b[0m \u001b[0;34m==\u001b[0m \u001b[0;34m'mean'\u001b[0m \u001b[0;32melse\u001b[0m \u001b[0mtorch\u001b[0m\u001b[0;34m.\u001b[0m\u001b[0msum\u001b[0m\u001b[0;34m(\u001b[0m\u001b[0mret\u001b[0m\u001b[0;34m)\u001b[0m\u001b[0;34m\u001b[0m\u001b[0;34m\u001b[0m\u001b[0m\n\u001b[1;32m   2202\u001b[0m     \u001b[0;32melse\u001b[0m\u001b[0;34m:\u001b[0m\u001b[0;34m\u001b[0m\u001b[0;34m\u001b[0m\u001b[0m\n\u001b[0;32m-> 2203\u001b[0;31m         \u001b[0mexpanded_input\u001b[0m\u001b[0;34m,\u001b[0m \u001b[0mexpanded_target\u001b[0m \u001b[0;34m=\u001b[0m \u001b[0mtorch\u001b[0m\u001b[0;34m.\u001b[0m\u001b[0mbroadcast_tensors\u001b[0m\u001b[0;34m(\u001b[0m\u001b[0minput\u001b[0m\u001b[0;34m,\u001b[0m \u001b[0mtarget\u001b[0m\u001b[0;34m)\u001b[0m\u001b[0;34m\u001b[0m\u001b[0;34m\u001b[0m\u001b[0m\n\u001b[0m\u001b[1;32m   2204\u001b[0m         \u001b[0mret\u001b[0m \u001b[0;34m=\u001b[0m \u001b[0mtorch\u001b[0m\u001b[0;34m.\u001b[0m\u001b[0m_C\u001b[0m\u001b[0;34m.\u001b[0m\u001b[0m_nn\u001b[0m\u001b[0;34m.\u001b[0m\u001b[0mmse_loss\u001b[0m\u001b[0;34m(\u001b[0m\u001b[0mexpanded_input\u001b[0m\u001b[0;34m,\u001b[0m \u001b[0mexpanded_target\u001b[0m\u001b[0;34m,\u001b[0m \u001b[0m_Reduction\u001b[0m\u001b[0;34m.\u001b[0m\u001b[0mget_enum\u001b[0m\u001b[0;34m(\u001b[0m\u001b[0mreduction\u001b[0m\u001b[0;34m)\u001b[0m\u001b[0;34m)\u001b[0m\u001b[0;34m\u001b[0m\u001b[0;34m\u001b[0m\u001b[0m\n\u001b[1;32m   2205\u001b[0m     \u001b[0;32mreturn\u001b[0m \u001b[0mret\u001b[0m\u001b[0;34m\u001b[0m\u001b[0;34m\u001b[0m\u001b[0m\n",
      "\u001b[0;32m~/anaconda3/lib/python3.7/site-packages/torch/functional.py\u001b[0m in \u001b[0;36mbroadcast_tensors\u001b[0;34m(*tensors)\u001b[0m\n\u001b[1;32m     50\u001b[0m                 [0, 1, 2]])\n\u001b[1;32m     51\u001b[0m     \"\"\"\n\u001b[0;32m---> 52\u001b[0;31m     \u001b[0;32mreturn\u001b[0m \u001b[0mtorch\u001b[0m\u001b[0;34m.\u001b[0m\u001b[0m_C\u001b[0m\u001b[0;34m.\u001b[0m\u001b[0m_VariableFunctions\u001b[0m\u001b[0;34m.\u001b[0m\u001b[0mbroadcast_tensors\u001b[0m\u001b[0;34m(\u001b[0m\u001b[0mtensors\u001b[0m\u001b[0;34m)\u001b[0m\u001b[0;34m\u001b[0m\u001b[0;34m\u001b[0m\u001b[0m\n\u001b[0m\u001b[1;32m     53\u001b[0m \u001b[0;34m\u001b[0m\u001b[0m\n\u001b[1;32m     54\u001b[0m \u001b[0;34m\u001b[0m\u001b[0m\n",
      "\u001b[0;31mRuntimeError\u001b[0m: The size of tensor a (2) must match the size of tensor b (8) at non-singleton dimension 1"
     ]
    }
   ],
   "source": [
    "num_epochs = 2000\n",
    "learning_rate = 0.01\n",
    "\n",
    "input_size = 16\n",
    "hidden_size = 2\n",
    "num_layers = 1\n",
    "\n",
    "num_classes = 16\n",
    "\n",
    "lstm = LSTM(num_classes, input_size, hidden_size, num_layers)\n",
    "\n",
    "criterion = torch.nn.MSELoss()    # mean-squared error for regression\n",
    "optimizer = torch.optim.Adam(lstm.parameters(), lr=learning_rate)\n",
    "#optimizer = torch.optim.SGD(lstm.parameters(), lr=learning_rate)\n",
    "\n",
    "# Train the model\n",
    "for epoch in range(num_epochs):\n",
    "    outputs = lstm(trainX)\n",
    "    optimizer.zero_grad()\n",
    "    \n",
    "    # obtain the loss function\n",
    "    loss = criterion(outputs, trainY)\n",
    "    \n",
    "    loss.backward()\n",
    "    \n",
    "    optimizer.step()\n",
    "    if epoch % 100 == 0:\n",
    "      print(\"Epoch: %d, loss: %1.5f\" % (epoch, loss.item()))"
   ]
  },
  {
   "cell_type": "code",
   "execution_count": null,
   "metadata": {},
   "outputs": [],
   "source": []
  },
  {
   "cell_type": "code",
   "execution_count": null,
   "metadata": {},
   "outputs": [],
   "source": []
  },
  {
   "cell_type": "code",
   "execution_count": null,
   "metadata": {},
   "outputs": [],
   "source": []
  },
  {
   "cell_type": "code",
   "execution_count": null,
   "metadata": {},
   "outputs": [],
   "source": []
  },
  {
   "cell_type": "code",
   "execution_count": null,
   "metadata": {},
   "outputs": [],
   "source": []
  },
  {
   "cell_type": "code",
   "execution_count": null,
   "metadata": {},
   "outputs": [],
   "source": []
  },
  {
   "cell_type": "code",
   "execution_count": null,
   "metadata": {},
   "outputs": [],
   "source": []
  },
  {
   "cell_type": "code",
   "execution_count": null,
   "metadata": {},
   "outputs": [],
   "source": []
  },
  {
   "cell_type": "code",
   "execution_count": null,
   "metadata": {},
   "outputs": [],
   "source": []
  },
  {
   "cell_type": "code",
   "execution_count": null,
   "metadata": {},
   "outputs": [],
   "source": []
  },
  {
   "cell_type": "code",
   "execution_count": null,
   "metadata": {},
   "outputs": [],
   "source": []
  }
 ],
 "metadata": {
  "kernelspec": {
   "display_name": "Python 3",
   "language": "python",
   "name": "python3"
  },
  "language_info": {
   "codemirror_mode": {
    "name": "ipython",
    "version": 3
   },
   "file_extension": ".py",
   "mimetype": "text/x-python",
   "name": "python",
   "nbconvert_exporter": "python",
   "pygments_lexer": "ipython3",
   "version": "3.7.6"
  },
  "toc": {
   "base_numbering": 1,
   "nav_menu": {},
   "number_sections": true,
   "sideBar": true,
   "skip_h1_title": false,
   "title_cell": "Table of Contents",
   "title_sidebar": "Contents",
   "toc_cell": true,
   "toc_position": {
    "height": "calc(100% - 180px)",
    "left": "10px",
    "top": "150px",
    "width": "341.8px"
   },
   "toc_section_display": true,
   "toc_window_display": true
  }
 },
 "nbformat": 4,
 "nbformat_minor": 4
}
